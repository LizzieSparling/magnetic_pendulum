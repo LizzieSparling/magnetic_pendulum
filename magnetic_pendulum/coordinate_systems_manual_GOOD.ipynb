{
 "cells": [
  {
   "cell_type": "markdown",
   "metadata": {},
   "source": [
    "### position vector"
   ]
  },
  {
   "cell_type": "code",
   "execution_count": 1,
   "metadata": {},
   "outputs": [],
   "source": [
    "# from sympy import symbols\n",
    "from sympy.vector import CoordSys3D, VectorAdd\n",
    "import sympy as sp"
   ]
  },
  {
   "cell_type": "code",
   "execution_count": 2,
   "metadata": {},
   "outputs": [],
   "source": [
    "def initialize(old_symbols, cartesian_position_formula):\n",
    "    C = CoordSys3D('C')  # standard Cartesian system\n",
    "    t = sp.symbols('t')\n",
    "\n",
    "    # make sure our symbols become (undefined) functions of t\n",
    "    def func_of_t(*args, **kwargs):\n",
    "        return sp.Function(*args, **kwargs)(t)\n",
    "    U = sp.symbols(' '.join(s.name for s in old_symbols), cls=func_of_t)\n",
    "    symbol_substitution = list(zip(old_symbols, U))\n",
    "\n",
    "    position_vector: VectorAdd = cartesian_position_formula[0]*C.i + cartesian_position_formula[1]*C.j + cartesian_position_formula[2]*C.k\n",
    "    position_vector = position_vector.subs(symbol_substitution)\n",
    "    return t, U, symbol_substitution, position_vector"
   ]
  },
  {
   "cell_type": "markdown",
   "metadata": {},
   "source": [
    "### get direction vectors of each component (define lamé coeffs and r_hat, theta_hat etc.)"
   ]
  },
  {
   "cell_type": "code",
   "execution_count": 3,
   "metadata": {},
   "outputs": [],
   "source": [
    "def unit_vectors(position_vector, U):\n",
    "    unit_vectors_map = {u: sp.simplify(sp.diff(position_vector, u).normalize()) for u in U}\n",
    "    return unit_vectors_map\n",
    "\n",
    "#### version which prints prettier equations (via given_lame) - ickier code\n",
    "\n",
    "def unit_vectors_pretty(position_vector, U, given_lame, symbol_substitution):\n",
    "    lame = {}\n",
    "    norm = lambda v: sp.sqrt(v.dot(v))\n",
    "    calculate_lame = lambda u: sp.simplify(norm(sp.diff(r_, u)))\n",
    "    for old_u, u in symbol_substitution:\n",
    "        given_lame_u = given_lame.get(old_u)\n",
    "        if given_lame_u:\n",
    "            lame[u] = sp.simplify(given_lame_u).subs(symbol_substitution)\n",
    "        else:\n",
    "            lame[u] = calculate_lame(u)\n",
    "\n",
    "    # derivatives of position vectors wrt time\n",
    "    # we COULD use .normal() here but this has UGLY lames gr\n",
    "    unit_vectors_map = {u: sp.diff(position_vector, u)/lame[u] for u in U}\n",
    "    return unit_vectors_map"
   ]
  },
  {
   "cell_type": "markdown",
   "metadata": {},
   "source": [
    "### acceleration"
   ]
  },
  {
   "cell_type": "code",
   "execution_count": 4,
   "metadata": {},
   "outputs": [],
   "source": [
    "def get_acceleration_2(a_formula, t, U, unit_vectors_map):\n",
    "    a_in_direction = lambda u: sp.simplify(a_formula.dot(unit_vectors_map[u]))\n",
    "\n",
    "    F = {u: sp.symbols(f'F_{u.name}') for u in U}\n",
    "    U_acceleration = {}\n",
    "    for u in U:\n",
    "        # get acceleration in terms of u\n",
    "        u_a_solns = sp.solve(sp.Eq(a_in_direction(u), F[u]), sp.diff(u, t, 2))\n",
    "        if len(u_a_solns) != 1:\n",
    "            raise ValueError(f'could not find acceleration in direction of {u} in terms of {sp.diff(u, t, 2)}.\\nreturned solns: {u_a_solns}')\n",
    "        U_acceleration[u] = u_a_solns[0]\n",
    "\n",
    "    return U_acceleration"
   ]
  },
  {
   "cell_type": "code",
   "execution_count": 5,
   "metadata": {},
   "outputs": [],
   "source": [
    "def get_acceleration_vector(a_formula, t, U, unit_vectors_map):\n",
    "    a_in_direction = lambda u: a_formula.dot(unit_vectors_map[u])\n",
    "    U_acceleration = {u: a_in_direction(u) for u in U}\n",
    "    return U_acceleration"
   ]
  },
  {
   "cell_type": "markdown",
   "metadata": {},
   "source": [
    "### Combining these:"
   ]
  },
  {
   "cell_type": "code",
   "execution_count": 6,
   "metadata": {},
   "outputs": [],
   "source": [
    "def get_coords_1(old_symbols, cartesian_position_formula, given_lame=None):\n",
    "    t, U, symbol_substitution, position_vector = initialize(old_symbols, cartesian_position_formula)\n",
    "    if given_lame:\n",
    "        unit_vectors_map = unit_vectors_pretty(position_vector, U, given_lame, symbol_substitution)\n",
    "    else:\n",
    "        unit_vectors_map = unit_vectors(position_vector, U)\n",
    "\n",
    "    ## Specific to system\n",
    "    # a_formula = sp.diff(U[0]*unit_vectors_map[U[0]], t, 2)\n",
    "    ## Generally:\n",
    "    a_formula = sp.diff(position_vector, t, 2)\n",
    "    \n",
    "    # acceleration_0 = get_acceleration_vector(a_formula, t, U, unit_vectors_map)\n",
    "    # # for val in acceleration_0.values():\n",
    "    # #     display(val)\n",
    "\n",
    "    acceleration = get_acceleration_2(a_formula, t, U, unit_vectors_map)\n",
    "\n",
    "    return acceleration"
   ]
  },
  {
   "cell_type": "markdown",
   "metadata": {},
   "source": [
    "### Spherical"
   ]
  },
  {
   "cell_type": "code",
   "execution_count": 7,
   "metadata": {},
   "outputs": [],
   "source": [
    "def caller(specify_lame=False):\n",
    "    from sympy import sin, cos\n",
    "    r, θ, φ = sp.symbols('r θ φ')\n",
    "    old_symbols = (r, θ, φ)\n",
    "    position_vector = ((r*sin(θ)*cos(φ)), (r*sin(θ)*sin(φ)), (-r*cos(θ)))\n",
    "\n",
    "    given_lame = {\n",
    "        r: 1,\n",
    "        θ: r,\n",
    "        ϕ: r*sin(θ)\n",
    "    }\n",
    "\n",
    "    if specify_lame:\n",
    "        acceleration = get_coords_1(old_symbols, position_vector, given_lame)\n",
    "    else:\n",
    "        acceleration = get_coords_1(old_symbols, position_vector)\n",
    "\n",
    "    for u_a in acceleration.values():\n",
    "        display(sp.simplify(u_a))"
   ]
  },
  {
   "cell_type": "code",
   "execution_count": 8,
   "metadata": {},
   "outputs": [
    {
     "data": {
      "text/latex": [
       "$\\displaystyle F_{r} + r{\\left(t \\right)} \\sin^{2}{\\left(θ{\\left(t \\right)} \\right)} \\left(\\frac{d}{d t} φ{\\left(t \\right)}\\right)^{2} + r{\\left(t \\right)} \\left(\\frac{d}{d t} θ{\\left(t \\right)}\\right)^{2}$"
      ],
      "text/plain": [
       "F_r + r(t)*sin(θ(t))**2*Derivative(φ(t), t)**2 + r(t)*Derivative(θ(t), t)**2"
      ]
     },
     "metadata": {},
     "output_type": "display_data"
    },
    {
     "data": {
      "text/latex": [
       "$\\displaystyle \\frac{F_{θ} \\sqrt{r^{2}{\\left(t \\right)}}}{r^{2}{\\left(t \\right)}} + \\frac{\\sin{\\left(2 θ{\\left(t \\right)} \\right)} \\left(\\frac{d}{d t} φ{\\left(t \\right)}\\right)^{2}}{2} - \\frac{2 \\frac{d}{d t} r{\\left(t \\right)} \\frac{d}{d t} θ{\\left(t \\right)}}{r{\\left(t \\right)}}$"
      ],
      "text/plain": [
       "F_θ*sqrt(r(t)**2)/r(t)**2 + sin(2*θ(t))*Derivative(φ(t), t)**2/2 - 2*Derivative(r(t), t)*Derivative(θ(t), t)/r(t)"
      ]
     },
     "metadata": {},
     "output_type": "display_data"
    },
    {
     "data": {
      "text/latex": [
       "$\\displaystyle \\frac{F_{φ} \\sqrt{r^{2}{\\left(t \\right)} \\sin^{2}{\\left(θ{\\left(t \\right)} \\right)}}}{r^{2}{\\left(t \\right)} \\sin^{2}{\\left(θ{\\left(t \\right)} \\right)}} - \\frac{2 \\frac{d}{d t} θ{\\left(t \\right)} \\frac{d}{d t} φ{\\left(t \\right)}}{\\tan{\\left(θ{\\left(t \\right)} \\right)}} - \\frac{2 \\frac{d}{d t} r{\\left(t \\right)} \\frac{d}{d t} φ{\\left(t \\right)}}{r{\\left(t \\right)}}$"
      ],
      "text/plain": [
       "F_φ*sqrt(r(t)**2*sin(θ(t))**2)/(r(t)**2*sin(θ(t))**2) - 2*Derivative(θ(t), t)*Derivative(φ(t), t)/tan(θ(t)) - 2*Derivative(r(t), t)*Derivative(φ(t), t)/r(t)"
      ]
     },
     "metadata": {},
     "output_type": "display_data"
    }
   ],
   "source": [
    "caller(specify_lame=False)"
   ]
  },
  {
   "cell_type": "code",
   "execution_count": 9,
   "metadata": {},
   "outputs": [
    {
     "data": {
      "text/latex": [
       "$\\displaystyle F_{r} + r{\\left(t \\right)} \\sin^{2}{\\left(θ{\\left(t \\right)} \\right)} \\left(\\frac{d}{d t} φ{\\left(t \\right)}\\right)^{2} + r{\\left(t \\right)} \\left(\\frac{d}{d t} θ{\\left(t \\right)}\\right)^{2}$"
      ],
      "text/plain": [
       "F_r + r(t)*sin(θ(t))**2*Derivative(φ(t), t)**2 + r(t)*Derivative(θ(t), t)**2"
      ]
     },
     "metadata": {},
     "output_type": "display_data"
    },
    {
     "data": {
      "text/latex": [
       "$\\displaystyle \\frac{F_{θ} + \\frac{r{\\left(t \\right)} \\sin{\\left(2 θ{\\left(t \\right)} \\right)} \\left(\\frac{d}{d t} φ{\\left(t \\right)}\\right)^{2}}{2} - 2 \\frac{d}{d t} r{\\left(t \\right)} \\frac{d}{d t} θ{\\left(t \\right)}}{r{\\left(t \\right)}}$"
      ],
      "text/plain": [
       "(F_θ + r(t)*sin(2*θ(t))*Derivative(φ(t), t)**2/2 - 2*Derivative(r(t), t)*Derivative(θ(t), t))/r(t)"
      ]
     },
     "metadata": {},
     "output_type": "display_data"
    },
    {
     "data": {
      "text/latex": [
       "$\\displaystyle \\frac{\\frac{F_{φ}}{\\sin{\\left(θ{\\left(t \\right)} \\right)}} - \\frac{2 r{\\left(t \\right)} \\frac{d}{d t} θ{\\left(t \\right)} \\frac{d}{d t} φ{\\left(t \\right)}}{\\tan{\\left(θ{\\left(t \\right)} \\right)}} - 2 \\frac{d}{d t} r{\\left(t \\right)} \\frac{d}{d t} φ{\\left(t \\right)}}{r{\\left(t \\right)}}$"
      ],
      "text/plain": [
       "(F_φ/sin(θ(t)) - 2*r(t)*Derivative(θ(t), t)*Derivative(φ(t), t)/tan(θ(t)) - 2*Derivative(r(t), t)*Derivative(φ(t), t))/r(t)"
      ]
     },
     "metadata": {},
     "output_type": "display_data"
    }
   ],
   "source": [
    "caller(specify_lame=True)"
   ]
  },
  {
   "cell_type": "markdown",
   "metadata": {},
   "source": [
    "in my opinion, this all looks fine without specifying the lamé coefficients\n",
    "\n",
    "I don't really see what it would change in a practical sense tbh"
   ]
  },
  {
   "cell_type": "markdown",
   "metadata": {},
   "source": [
    "### Other systems of coordinates?\n",
    "(I'm scared about this one just in case I ignored smth important)\n",
    "\n",
    "NB: we have required an **orthonormal** system..."
   ]
  },
  {
   "cell_type": "markdown",
   "metadata": {},
   "source": [
    "#### Cartesian:"
   ]
  },
  {
   "cell_type": "code",
   "execution_count": 10,
   "metadata": {},
   "outputs": [
    {
     "data": {
      "text/latex": [
       "$\\displaystyle F_{x}$"
      ],
      "text/plain": [
       "F_x"
      ]
     },
     "metadata": {},
     "output_type": "display_data"
    },
    {
     "data": {
      "text/latex": [
       "$\\displaystyle F_{y}$"
      ],
      "text/plain": [
       "F_y"
      ]
     },
     "metadata": {},
     "output_type": "display_data"
    },
    {
     "data": {
      "text/latex": [
       "$\\displaystyle F_{z}$"
      ],
      "text/plain": [
       "F_z"
      ]
     },
     "metadata": {},
     "output_type": "display_data"
    }
   ],
   "source": [
    "def caller_cartesian(specify_lame=False):\n",
    "    from sympy import sin, cos\n",
    "    x, y, z = sp.symbols('x y z')\n",
    "    old_symbols = (x, y, z)\n",
    "    position_vector = (x, y, z)\n",
    "\n",
    "    acceleration = get_coords_1(old_symbols, position_vector)\n",
    "    for u_a in acceleration.values():\n",
    "        display(sp.simplify(u_a))\n",
    "\n",
    "caller_cartesian()"
   ]
  },
  {
   "cell_type": "markdown",
   "metadata": {},
   "source": [
    "#### Cylindrical"
   ]
  },
  {
   "cell_type": "code",
   "execution_count": 11,
   "metadata": {},
   "outputs": [
    {
     "data": {
      "text/latex": [
       "$\\displaystyle F_{r} + r{\\left(t \\right)} \\left(\\frac{d}{d t} θ{\\left(t \\right)}\\right)^{2}$"
      ],
      "text/plain": [
       "F_r + r(t)*Derivative(θ(t), t)**2"
      ]
     },
     "metadata": {},
     "output_type": "display_data"
    },
    {
     "data": {
      "text/latex": [
       "$\\displaystyle \\frac{F_{θ} - 2 \\frac{d}{d t} r{\\left(t \\right)} \\frac{d}{d t} θ{\\left(t \\right)}}{r{\\left(t \\right)}}$"
      ],
      "text/plain": [
       "(F_θ - 2*Derivative(r(t), t)*Derivative(θ(t), t))/r(t)"
      ]
     },
     "metadata": {},
     "output_type": "display_data"
    },
    {
     "data": {
      "text/latex": [
       "$\\displaystyle F_{z}$"
      ],
      "text/plain": [
       "F_z"
      ]
     },
     "metadata": {},
     "output_type": "display_data"
    },
    {
     "name": "stdout",
     "output_type": "stream",
     "text": [
      "\n",
      "\n",
      "\n"
     ]
    },
    {
     "data": {
      "text/latex": [
       "$\\displaystyle F_{r} + r{\\left(t \\right)} \\left(\\frac{d}{d t} θ{\\left(t \\right)}\\right)^{2}$"
      ],
      "text/plain": [
       "F_r + r(t)*Derivative(θ(t), t)**2"
      ]
     },
     "metadata": {},
     "output_type": "display_data"
    },
    {
     "data": {
      "text/latex": [
       "$\\displaystyle \\frac{F_{θ} \\sqrt{r^{2}{\\left(t \\right)}} - 2 r{\\left(t \\right)} \\frac{d}{d t} r{\\left(t \\right)} \\frac{d}{d t} θ{\\left(t \\right)}}{r^{2}{\\left(t \\right)}}$"
      ],
      "text/plain": [
       "(F_θ*sqrt(r(t)**2) - 2*r(t)*Derivative(r(t), t)*Derivative(θ(t), t))/r(t)**2"
      ]
     },
     "metadata": {},
     "output_type": "display_data"
    },
    {
     "data": {
      "text/latex": [
       "$\\displaystyle F_{z}$"
      ],
      "text/plain": [
       "F_z"
      ]
     },
     "metadata": {},
     "output_type": "display_data"
    }
   ],
   "source": [
    "def caller_cylindrical(specify_lame=False):\n",
    "    from sympy import sin, cos\n",
    "    r, θ, z = sp.symbols('r θ z')\n",
    "    old_symbols = (r, θ, z)\n",
    "    position_vector = (r*cos(θ), r*sin(θ), z)\n",
    "\n",
    "    given_lame = {\n",
    "        r: 1,\n",
    "        θ: r,\n",
    "        z: 1\n",
    "    }\n",
    "\n",
    "    if specify_lame:\n",
    "        acceleration = get_coords_1(old_symbols, position_vector, given_lame)\n",
    "    else:\n",
    "        acceleration = get_coords_1(old_symbols, position_vector)\n",
    "\n",
    "    for u_a in acceleration.values():\n",
    "        display(sp.simplify(u_a))\n",
    "\n",
    "caller_cylindrical(specify_lame=True)\n",
    "print('\\n\\n')\n",
    "caller_cylindrical(specify_lame=False)"
   ]
  }
 ],
 "metadata": {
  "kernelspec": {
   "display_name": "standard",
   "language": "python",
   "name": "python3"
  },
  "language_info": {
   "codemirror_mode": {
    "name": "ipython",
    "version": 3
   },
   "file_extension": ".py",
   "mimetype": "text/x-python",
   "name": "python",
   "nbconvert_exporter": "python",
   "pygments_lexer": "ipython3",
   "version": "3.11.5"
  }
 },
 "nbformat": 4,
 "nbformat_minor": 2
}
