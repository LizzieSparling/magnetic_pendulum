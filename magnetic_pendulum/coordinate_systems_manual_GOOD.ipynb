{
 "cells": [
  {
   "cell_type": "markdown",
   "metadata": {},
   "source": [
    "### position vector"
   ]
  },
  {
   "cell_type": "code",
   "execution_count": 1,
   "metadata": {},
   "outputs": [],
   "source": [
    "# from sympy import symbols\n",
    "from sympy.vector import CoordSys3D, VectorAdd\n",
    "import sympy as sp"
   ]
  },
  {
   "cell_type": "code",
   "execution_count": 2,
   "metadata": {},
   "outputs": [],
   "source": [
    "def initialize(old_symbols, cartesian_position_formula):\n",
    "    C = CoordSys3D('C')  # standard Cartesian system\n",
    "    t = sp.symbols('t')\n",
    "\n",
    "    # make sure our symbols become (undefined) functions of t\n",
    "    def func_of_t(*args, **kwargs):\n",
    "        return sp.Function(*args, **kwargs)(t)\n",
    "    U = sp.symbols(' '.join(s.name for s in old_symbols), cls=func_of_t)\n",
    "    symbol_substitution = list(zip(old_symbols, U))\n",
    "\n",
    "    position_vector: VectorAdd = cartesian_position_formula[0]*C.i + cartesian_position_formula[1]*C.j + cartesian_position_formula[2]*C.k\n",
    "    position_vector = position_vector.subs(symbol_substitution)\n",
    "    return t, U, symbol_substitution, position_vector"
   ]
  },
  {
   "cell_type": "markdown",
   "metadata": {},
   "source": [
    "### get direction vectors of each component (define lamé coeffs and r_hat, theta_hat etc.)"
   ]
  },
  {
   "cell_type": "code",
   "execution_count": 3,
   "metadata": {},
   "outputs": [],
   "source": [
    "def unit_vectors(position_vector, U):\n",
    "    unit_vectors_map = {u: sp.simplify(sp.diff(position_vector, u).normalize()) for u in U}\n",
    "    return unit_vectors_map\n",
    "\n",
    "#### version which prints prettier equations (via given_lame) - ickier code\n",
    "\n",
    "def unit_vectors_pretty(position_vector, U, given_lame, symbol_substitution):\n",
    "    lame = {}\n",
    "    norm = lambda v: sp.sqrt(v.dot(v))\n",
    "    calculate_lame = lambda u: sp.simplify(norm(sp.diff(r_, u)))\n",
    "    for old_u, u in symbol_substitution:\n",
    "        given_lame_u = given_lame.get(old_u)\n",
    "        if given_lame_u:\n",
    "            lame[u] = sp.simplify(given_lame_u).subs(symbol_substitution)\n",
    "        else:\n",
    "            lame[u] = calculate_lame(u)\n",
    "\n",
    "    # derivatives of position vectors wrt time\n",
    "    # we COULD use .normal() here but this has UGLY lames gr\n",
    "    unit_vectors_map = {u: sp.diff(position_vector, u)/lame[u] for u in U}\n",
    "    return unit_vectors_map"
   ]
  },
  {
   "cell_type": "markdown",
   "metadata": {},
   "source": [
    "### acceleration"
   ]
  },
  {
   "cell_type": "code",
   "execution_count": 4,
   "metadata": {},
   "outputs": [],
   "source": [
    "def get_acceleration_2(a_formula, t, U, unit_vectors_map):\n",
    "    a_in_direction = lambda u: a_formula.dot(unit_vectors_map[u])\n",
    "\n",
    "    F = sp.symbols('F')\n",
    "    U_acceleration = {}\n",
    "    for u in U:\n",
    "        # get acceleration in terms of u\n",
    "        u_a_solns = sp.solve(sp.Eq(a_in_direction(u), F), sp.diff(u, t, 2))\n",
    "        if len(u_a_solns) != 1:\n",
    "            raise ValueError(f'could not find acceleration in direction of {u} in terms of {sp.diff(u, t, 2)}')\n",
    "        U_acceleration[u] = u_a_solns[0]\n",
    "\n",
    "    return U_acceleration"
   ]
  },
  {
   "cell_type": "code",
   "execution_count": 5,
   "metadata": {},
   "outputs": [],
   "source": [
    "def get_acceleration_vector(a_formula, t, U, unit_vectors_map):\n",
    "    a_in_direction = lambda u: a_formula.dot(unit_vectors_map[u])\n",
    "    U_acceleration = {u: a_in_direction(u) for u in U}\n",
    "    return U_acceleration"
   ]
  },
  {
   "cell_type": "code",
   "execution_count": 6,
   "metadata": {},
   "outputs": [],
   "source": [
    "def get_coords_1(old_symbols, cartesian_position_formula, given_lame=None):\n",
    "    t, U, symbol_substitution, position_vector = initialize(old_symbols, cartesian_position_formula)\n",
    "    if given_lame:\n",
    "        unit_vectors_map = unit_vectors_pretty(position_vector, U, given_lame, symbol_substitution)\n",
    "    else:\n",
    "        unit_vectors_map = unit_vectors(position_vector, U)\n",
    "\n",
    "    ## Specific to system\n",
    "    # a_formula = sp.diff(U[0]*unit_vectors_map[U[0]], t, 2)\n",
    "    ## Generally:\n",
    "    a_formula = sp.diff(position_vector, t, 2)\n",
    "\n",
    "    acceleration = get_acceleration_2(a_formula, t, U, unit_vectors_map)\n",
    "\n",
    "    return acceleration"
   ]
  },
  {
   "cell_type": "code",
   "execution_count": 13,
   "metadata": {},
   "outputs": [],
   "source": [
    "def caller(specify_lame=False):\n",
    "    from sympy import sin, cos\n",
    "    r, θ, φ = sp.symbols('r θ φ')\n",
    "    old_symbols = (r, θ, φ)\n",
    "    position_vector = ((r*sin(θ)*cos(φ)), (r*sin(θ)*sin(φ)), (-r*cos(θ)))\n",
    "\n",
    "    given_lame = {\n",
    "        r: 1,\n",
    "        θ: r,\n",
    "        ϕ: r*sin(θ)\n",
    "    }\n",
    "\n",
    "    if specify_lame:\n",
    "        acceleration = get_coords_1(old_symbols, position_vector, given_lame)\n",
    "    else:\n",
    "        acceleration = get_coords_1(old_symbols, position_vector)\n",
    "\n",
    "    for u_a in acceleration.values():\n",
    "        display(sp.simplify(u_a))"
   ]
  },
  {
   "cell_type": "code",
   "execution_count": 11,
   "metadata": {},
   "outputs": [
    {
     "data": {
      "text/latex": [
       "$\\displaystyle F + r{\\left(t \\right)} \\sin^{2}{\\left(θ{\\left(t \\right)} \\right)} \\left(\\frac{d}{d t} φ{\\left(t \\right)}\\right)^{2} + r{\\left(t \\right)} \\left(\\frac{d}{d t} θ{\\left(t \\right)}\\right)^{2}$"
      ],
      "text/plain": [
       "F + r(t)*sin(θ(t))**2*Derivative(φ(t), t)**2 + r(t)*Derivative(θ(t), t)**2"
      ]
     },
     "metadata": {},
     "output_type": "display_data"
    },
    {
     "data": {
      "text/latex": [
       "$\\displaystyle \\frac{F \\sqrt{r^{2}{\\left(t \\right)}}}{r^{2}{\\left(t \\right)}} + \\frac{\\sin{\\left(2 θ{\\left(t \\right)} \\right)} \\left(\\frac{d}{d t} φ{\\left(t \\right)}\\right)^{2}}{2} - \\frac{2 \\frac{d}{d t} r{\\left(t \\right)} \\frac{d}{d t} θ{\\left(t \\right)}}{r{\\left(t \\right)}}$"
      ],
      "text/plain": [
       "F*sqrt(r(t)**2)/r(t)**2 + sin(2*θ(t))*Derivative(φ(t), t)**2/2 - 2*Derivative(r(t), t)*Derivative(θ(t), t)/r(t)"
      ]
     },
     "metadata": {},
     "output_type": "display_data"
    },
    {
     "data": {
      "text/latex": [
       "$\\displaystyle \\frac{F \\sqrt{r^{2}{\\left(t \\right)} \\sin^{2}{\\left(θ{\\left(t \\right)} \\right)}}}{r^{2}{\\left(t \\right)} \\sin^{2}{\\left(θ{\\left(t \\right)} \\right)}} - \\frac{2 \\frac{d}{d t} θ{\\left(t \\right)} \\frac{d}{d t} φ{\\left(t \\right)}}{\\tan{\\left(θ{\\left(t \\right)} \\right)}} - \\frac{2 \\frac{d}{d t} r{\\left(t \\right)} \\frac{d}{d t} φ{\\left(t \\right)}}{r{\\left(t \\right)}}$"
      ],
      "text/plain": [
       "F*sqrt(r(t)**2*sin(θ(t))**2)/(r(t)**2*sin(θ(t))**2) - 2*Derivative(θ(t), t)*Derivative(φ(t), t)/tan(θ(t)) - 2*Derivative(r(t), t)*Derivative(φ(t), t)/r(t)"
      ]
     },
     "metadata": {},
     "output_type": "display_data"
    }
   ],
   "source": [
    "caller(specify_lame=False)"
   ]
  },
  {
   "cell_type": "code",
   "execution_count": 12,
   "metadata": {},
   "outputs": [
    {
     "data": {
      "text/latex": [
       "$\\displaystyle F + r{\\left(t \\right)} \\sin^{2}{\\left(θ{\\left(t \\right)} \\right)} \\left(\\frac{d}{d t} φ{\\left(t \\right)}\\right)^{2} + r{\\left(t \\right)} \\left(\\frac{d}{d t} θ{\\left(t \\right)}\\right)^{2}$"
      ],
      "text/plain": [
       "F + r(t)*sin(θ(t))**2*Derivative(φ(t), t)**2 + r(t)*Derivative(θ(t), t)**2"
      ]
     },
     "metadata": {},
     "output_type": "display_data"
    },
    {
     "data": {
      "text/latex": [
       "$\\displaystyle \\frac{F + \\frac{r{\\left(t \\right)} \\sin{\\left(2 θ{\\left(t \\right)} \\right)} \\left(\\frac{d}{d t} φ{\\left(t \\right)}\\right)^{2}}{2} - 2 \\frac{d}{d t} r{\\left(t \\right)} \\frac{d}{d t} θ{\\left(t \\right)}}{r{\\left(t \\right)}}$"
      ],
      "text/plain": [
       "(F + r(t)*sin(2*θ(t))*Derivative(φ(t), t)**2/2 - 2*Derivative(r(t), t)*Derivative(θ(t), t))/r(t)"
      ]
     },
     "metadata": {},
     "output_type": "display_data"
    },
    {
     "data": {
      "text/latex": [
       "$\\displaystyle \\frac{\\frac{F}{\\sin{\\left(θ{\\left(t \\right)} \\right)}} - \\frac{2 r{\\left(t \\right)} \\frac{d}{d t} θ{\\left(t \\right)} \\frac{d}{d t} φ{\\left(t \\right)}}{\\tan{\\left(θ{\\left(t \\right)} \\right)}} - 2 \\frac{d}{d t} r{\\left(t \\right)} \\frac{d}{d t} φ{\\left(t \\right)}}{r{\\left(t \\right)}}$"
      ],
      "text/plain": [
       "(F/sin(θ(t)) - 2*r(t)*Derivative(θ(t), t)*Derivative(φ(t), t)/tan(θ(t)) - 2*Derivative(r(t), t)*Derivative(φ(t), t))/r(t)"
      ]
     },
     "metadata": {},
     "output_type": "display_data"
    }
   ],
   "source": [
    "caller(specify_lame=True)"
   ]
  },
  {
   "cell_type": "markdown",
   "metadata": {},
   "source": [
    "in my opinion, this all looks fine without specifying the Lame - I don't really see what it would change tbh"
   ]
  }
 ],
 "metadata": {
  "kernelspec": {
   "display_name": "standard",
   "language": "python",
   "name": "python3"
  },
  "language_info": {
   "codemirror_mode": {
    "name": "ipython",
    "version": 3
   },
   "file_extension": ".py",
   "mimetype": "text/x-python",
   "name": "python",
   "nbconvert_exporter": "python",
   "pygments_lexer": "ipython3",
   "version": "3.11.5"
  }
 },
 "nbformat": 4,
 "nbformat_minor": 2
}
