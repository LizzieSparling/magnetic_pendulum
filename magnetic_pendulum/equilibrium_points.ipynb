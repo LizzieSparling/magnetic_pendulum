{
 "cells": [
  {
   "cell_type": "code",
   "execution_count": 46,
   "metadata": {},
   "outputs": [],
   "source": [
    "from pendulum_forces import MagneticPendulumInvSpherical, MagneticPendulumXY\n",
    "import numpy as np\n",
    "import sympy as sp\n",
    "from scipy.constants import g as g_value\n",
    "from scipy.integrate import solve_ivp\n",
    "from scipy.optimize import fsolve, root\n",
    "from scipy.cluster.vq import kmeans2\n",
    "from matplotlib import pyplot as plt\n",
    "# %matplotlib widget"
   ]
  },
  {
   "cell_type": "code",
   "execution_count": 47,
   "metadata": {},
   "outputs": [],
   "source": [
    "# P = MagneticPendulumInvSpherical(4)\n",
    "P = MagneticPendulumXY(4)\n",
    "\n",
    "const1_subs = {\n",
    "    'm': 1,\n",
    "    'g': g_value,\n",
    "    'L': g_value,\n",
    "    'R': 2,\n",
    "    'h': 0.5,\n",
    "    'b': 0.1,   \n",
    "}\n",
    "magnet_strength = 1\n",
    "\n",
    "magnet_polarity_vals = dict((p.name, magnet_strength) for p in P.polarity_list)\n",
    "constant_subs = const1_subs | magnet_polarity_vals\n",
    "\n",
    "bob = P.create_bob(constant_subs=constant_subs)\n",
    "\n",
    "ddt = P._get_ddt(bob=bob)"
   ]
  },
  {
   "cell_type": "code",
   "execution_count": 48,
   "metadata": {},
   "outputs": [
    {
     "data": {
      "text/plain": [
       "array([[ 2.,  0.],\n",
       "       [ 0.,  2.],\n",
       "       [-2.,  0.],\n",
       "       [ 0., -2.],\n",
       "       [ 0.,  0.]])"
      ]
     },
     "execution_count": 48,
     "metadata": {},
     "output_type": "execute_result"
    }
   ],
   "source": [
    "magnet_positions = []\n",
    "for magnet_pos in P.magnet_positions_C:\n",
    "    magnet_pos = magnet_pos.subs(constant_subs)\n",
    "    magnet_positions.append([magnet_pos.dot(P.coordsystem.C.i), magnet_pos.dot(P.coordsystem.C.j)])\n",
    "# magnet_positions\n",
    "\n",
    "equilibria_regions = np.array(magnet_positions + [[0,0]], dtype=np.float64)\n",
    "equilibria_regions"
   ]
  },
  {
   "cell_type": "code",
   "execution_count": 49,
   "metadata": {},
   "outputs": [
    {
     "data": {
      "text/plain": [
       "array([[ 2.,  0.,  0.,  0.,  0.,  0.],\n",
       "       [ 0.,  2.,  0.,  0.,  0.,  0.],\n",
       "       [-2.,  0.,  0.,  0.,  0.,  0.],\n",
       "       [ 0., -2.,  0.,  0.,  0.,  0.],\n",
       "       [ 0.,  0.,  0.,  0.,  0.,  0.]])"
      ]
     },
     "execution_count": 49,
     "metadata": {},
     "output_type": "execute_result"
    }
   ],
   "source": [
    "equilibria_guesses = np.array([[x,y,0,0,0,0] for x,y in equilibria_regions])\n",
    "equilibria_guesses"
   ]
  },
  {
   "cell_type": "code",
   "execution_count": 50,
   "metadata": {},
   "outputs": [],
   "source": [
    "ddt_time_ignorant = lambda y: ddt(0, y)"
   ]
  },
  {
   "cell_type": "code",
   "execution_count": 51,
   "metadata": {},
   "outputs": [
    {
     "data": {
      "text/plain": [
       "array([0., 0., 0., 0., 0., 0.])"
      ]
     },
     "execution_count": 51,
     "metadata": {},
     "output_type": "execute_result"
    }
   ],
   "source": [
    "ddt(0, [0,0,0,0,0,0])"
   ]
  },
  {
   "cell_type": "code",
   "execution_count": 52,
   "metadata": {},
   "outputs": [
    {
     "data": {
      "text/plain": [
       "array([[ 1.93617289,  0.        ],\n",
       "       [ 0.        ,  1.93617289],\n",
       "       [-1.93617289,  0.        ],\n",
       "       [ 0.        , -1.93617289],\n",
       "       [ 0.        ,  0.        ]])"
      ]
     },
     "execution_count": 52,
     "metadata": {},
     "output_type": "execute_result"
    }
   ],
   "source": [
    "equilibria = np.array([\n",
    "    fsolve(ddt_time_ignorant, e)[:2] for e in equilibria_guesses\n",
    "])\n",
    "\n",
    "equilibria"
   ]
  },
  {
   "cell_type": "code",
   "execution_count": 61,
   "metadata": {},
   "outputs": [
    {
     "data": {
      "text/plain": [
       "Text(0, 0.5, 'y')"
      ]
     },
     "execution_count": 61,
     "metadata": {},
     "output_type": "execute_result"
    },
    {
     "data": {
      "image/png": "[encoded data removed]",
      "text/plain": [
       "<Figure size 500x500 with 1 Axes>"
      ]
     },
     "metadata": {},
     "output_type": "display_data"
    }
   ],
   "source": [
    "fig, ax = plt.subplots(figsize=(5,5))\n",
    "ax.scatter(equilibria_regions.T[0], equilibria_regions.T[1], label='magnets')\n",
    "ax.scatter(equilibria.T[0], equilibria.T[1], label='equilibria')\n",
    "ax.legend()\n",
    "ax.set_xlabel('x')\n",
    "ax.set_ylabel('y')"
   ]
  }
 ],
 "metadata": {
  "kernelspec": {
   "display_name": "standard",
   "language": "python",
   "name": "python3"
  },
  "language_info": {
   "codemirror_mode": {
    "name": "ipython",
    "version": 3
   },
   "file_extension": ".py",
   "mimetype": "text/x-python",
   "name": "python",
   "nbconvert_exporter": "python",
   "pygments_lexer": "ipython3",
   "version": "3.11.5"
  }
 },
 "nbformat": 4,
 "nbformat_minor": 2
}
