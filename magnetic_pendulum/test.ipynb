{
 "cells": [
  {
   "cell_type": "code",
   "execution_count": 28,
   "metadata": {},
   "outputs": [],
   "source": [
    "from base import get_predefined_system, Force, Energy\n",
    "import sympy as sp\n",
    "import numpy as np\n",
    "\n",
    "Sph = get_predefined_system('InvSpherical')\n"
   ]
  },
  {
   "cell_type": "code",
   "execution_count": 29,
   "metadata": {},
   "outputs": [
    {
     "data": {
      "text/latex": [
       "$\\displaystyle - b r{\\left(t \\right)} \\frac{d}{d t} θ{\\left(t \\right)}$"
      ],
      "text/plain": [
       "-b*r(t)*Derivative(θ(t), t)"
      ]
     },
     "execution_count": 29,
     "metadata": {},
     "output_type": "execute_result"
    }
   ],
   "source": [
    "b = sp.symbols('b', nonnegative=True)\n",
    "\n",
    "damping_force = [-b*unit_v for unit_v in Sph.velocity_vector]\n",
    "damping_force[1]"
   ]
  },
  {
   "cell_type": "code",
   "execution_count": 30,
   "metadata": {},
   "outputs": [
    {
     "name": "stdout",
     "output_type": "stream",
     "text": [
      "[g*m*cos(θ(t)), -g*m*r(t)*sin(θ(t)), 0]\n",
      "[g*m*cos(θ(t)) -g*m*r(t)*sin(θ(t)) 0]\n"
     ]
    }
   ],
   "source": [
    "### GPE example\n",
    "m, g, z0 = sp.symbols('m g z0')\n",
    "h = z0 + Sph.position_vector.dot(Sph.C.k)\n",
    "E = m*g*h\n",
    "\n",
    "vector = []\n",
    "for u in Sph.U:\n",
    "    vector.append(-sp.diff(E, u))\n",
    "print(vector)\n",
    "\n",
    "print(-np.vectorize(sp.diff)(E, Sph.U))"
   ]
  },
  {
   "cell_type": "code",
   "execution_count": 31,
   "metadata": {},
   "outputs": [
    {
     "data": {
      "text/latex": [
       "$\\displaystyle g m \\cos{\\left(θ{\\left(t \\right)} \\right)}$"
      ],
      "text/plain": [
       "g*m*cos(θ(t))"
      ]
     },
     "metadata": {},
     "output_type": "display_data"
    },
    {
     "data": {
      "text/latex": [
       "$\\displaystyle - g m \\sin{\\left(θ{\\left(t \\right)} \\right)}$"
      ],
      "text/plain": [
       "-g*m*sin(θ(t))"
      ]
     },
     "metadata": {},
     "output_type": "display_data"
    },
    {
     "data": {
      "text/latex": [
       "$\\displaystyle 0$"
      ],
      "text/plain": [
       "0"
      ]
     },
     "metadata": {},
     "output_type": "display_data"
    }
   ],
   "source": [
    "gpe = Energy(E, Sph)\n",
    "for x in gpe.to_force().F:\n",
    "    display(x)"
   ]
  },
  {
   "cell_type": "code",
   "execution_count": 32,
   "metadata": {},
   "outputs": [
    {
     "data": {
      "text/plain": [
       "numpy.ndarray"
      ]
     },
     "execution_count": 32,
     "metadata": {},
     "output_type": "execute_result"
    }
   ],
   "source": [
    "type(-np.vectorize(sp.diff)(E, Sph.U))"
   ]
  },
  {
   "cell_type": "code",
   "execution_count": 33,
   "metadata": {},
   "outputs": [
    {
     "data": {
      "text/plain": [
       "array([g*m*cos(θ(t)), -g*m*sin(θ(t)), 0], dtype=object)"
      ]
     },
     "execution_count": 33,
     "metadata": {},
     "output_type": "execute_result"
    }
   ],
   "source": [
    "from pendulum_forces import PendulumForces\n",
    "p = PendulumForces(Sph)\n",
    "p.gravitational_potential_energy().to_force().F"
   ]
  },
  {
   "cell_type": "code",
   "execution_count": 34,
   "metadata": {},
   "outputs": [
    {
     "data": {
      "text/latex": [
       "$\\displaystyle \\rho_{2}$"
      ],
      "text/plain": [
       "\\rho_2"
      ]
     },
     "execution_count": 34,
     "metadata": {},
     "output_type": "execute_result"
    }
   ],
   "source": [
    "num_magnets = 4\n",
    "sp.symbols(f'\\\\rho_0:{num_magnets}')[2]"
   ]
  },
  {
   "cell_type": "code",
   "execution_count": 35,
   "metadata": {},
   "outputs": [],
   "source": [
    "namefunc = lambda u: f'{u.name}_mag\\,0:{num_magnets}'\n",
    "names = ' '.join([namefunc(u) for u in Sph.U])\n",
    "\n",
    "magnet_positions = np.array(sp.symbols(names)).reshape(-1,num_magnets).T"
   ]
  },
  {
   "cell_type": "code",
   "execution_count": 36,
   "metadata": {},
   "outputs": [
    {
     "data": {
      "text/latex": [
       "$\\displaystyle φ_{mag,3}$"
      ],
      "text/plain": [
       "φ_mag,3"
      ]
     },
     "execution_count": 36,
     "metadata": {},
     "output_type": "execute_result"
    }
   ],
   "source": [
    "namerange = lambda name: f'{name}_mag\\,0:{num_magnets}'\n",
    "names = ' '.join([namerange(u.name) for u in Sph.U])\n",
    "\n",
    "polarities = np.array(sp.symbols(namerange('\\\\rho')))\n",
    "magnet_positions = np.array(sp.symbols(names)).reshape(-1,num_magnets).T\n",
    "magnet_positions[3,2]"
   ]
  },
  {
   "cell_type": "code",
   "execution_count": 37,
   "metadata": {},
   "outputs": [
    {
     "data": {
      "text/latex": [
       "$\\displaystyle \\sqrt{r_{mag,1}^{2} - 2 r_{mag,1} r{\\left(t \\right)} \\sin{\\left(θ_{mag,1} \\right)} \\sin{\\left(θ{\\left(t \\right)} \\right)} \\cos{\\left(φ_{mag,1} - φ{\\left(t \\right)} \\right)} - 2 r_{mag,1} r{\\left(t \\right)} \\cos{\\left(θ_{mag,1} \\right)} \\cos{\\left(θ{\\left(t \\right)} \\right)} + r^{2}{\\left(t \\right)}}$"
      ],
      "text/plain": [
       "sqrt(r_mag,1**2 - 2*r_mag,1*r(t)*sin(θ_mag,1)*sin(θ(t))*cos(φ_mag,1 - φ(t)) - 2*r_mag,1*r(t)*cos(θ_mag,1)*cos(θ(t)) + r(t)**2)"
      ]
     },
     "execution_count": 37,
     "metadata": {},
     "output_type": "execute_result"
    }
   ],
   "source": [
    "\n",
    "from_v = None\n",
    "to_v = magnet_positions[1]\n",
    "if from_v:\n",
    "    from_pos = Sph.position_vector.subs(zip(Sph.U, from_v))\n",
    "else:\n",
    "    from_pos = Sph.position_vector\n",
    "to_pos = Sph.position_vector.subs(zip(Sph.U, to_v))\n",
    "distance = sp.simplify((to_pos - from_pos).magnitude())\n",
    "distance"
   ]
  },
  {
   "cell_type": "code",
   "execution_count": 38,
   "metadata": {},
   "outputs": [
    {
     "data": {
      "text/latex": [
       "$\\displaystyle \\frac{1}{3 \\left(r_{mag,0}^{2} - 2 r_{mag,0} r{\\left(t \\right)} \\sin{\\left(θ_{mag,0} \\right)} \\sin{\\left(θ{\\left(t \\right)} \\right)} \\cos{\\left(φ_{mag,0} - φ{\\left(t \\right)} \\right)} - 2 r_{mag,0} r{\\left(t \\right)} \\cos{\\left(θ_{mag,0} \\right)} \\cos{\\left(θ{\\left(t \\right)} \\right)} + r^{2}{\\left(t \\right)}\\right)^{\\frac{3}{2}}}$"
      ],
      "text/plain": [
       "1/(3*(r_mag,0**2 - 2*r_mag,0*r(t)*sin(θ_mag,0)*sin(θ(t))*cos(φ_mag,0 - φ(t)) - 2*r_mag,0*r(t)*cos(θ_mag,0)*cos(θ(t)) + r(t)**2)**(3/2))"
      ]
     },
     "execution_count": 38,
     "metadata": {},
     "output_type": "execute_result"
    }
   ],
   "source": [
    "magnetic_energy_of = lambda magnet_pos: 1/(Sph.get_distance(magnet_pos))**3 * sp.Rational(1,3)\n",
    "magnetic_energy_of(magnet_positions[0])"
   ]
  },
  {
   "cell_type": "code",
   "execution_count": 39,
   "metadata": {},
   "outputs": [
    {
     "data": {
      "text/plain": [
       "[1/(3*(r_mag,0**2 - 2*r_mag,0*r(t)*sin(θ_mag,0)*sin(θ(t))*cos(φ_mag,0 - φ(t)) - 2*r_mag,0*r(t)*cos(θ_mag,0)*cos(θ(t)) + r(t)**2)**(3/2)),\n",
       " 1/(3*(r_mag,1**2 - 2*r_mag,1*r(t)*sin(θ_mag,1)*sin(θ(t))*cos(φ_mag,1 - φ(t)) - 2*r_mag,1*r(t)*cos(θ_mag,1)*cos(θ(t)) + r(t)**2)**(3/2)),\n",
       " 1/(3*(r_mag,2**2 - 2*r_mag,2*r(t)*sin(θ_mag,2)*sin(θ(t))*cos(φ_mag,2 - φ(t)) - 2*r_mag,2*r(t)*cos(θ_mag,2)*cos(θ(t)) + r(t)**2)**(3/2)),\n",
       " 1/(3*(r_mag,3**2 - 2*r_mag,3*r(t)*sin(θ_mag,3)*sin(θ(t))*cos(φ_mag,3 - φ(t)) - 2*r_mag,3*r(t)*cos(θ_mag,3)*cos(θ(t)) + r(t)**2)**(3/2))]"
      ]
     },
     "execution_count": 39,
     "metadata": {},
     "output_type": "execute_result"
    }
   ],
   "source": [
    "[magnetic_energy_of(pos) for pos in magnet_positions]"
   ]
  },
  {
   "cell_type": "code",
   "execution_count": 40,
   "metadata": {},
   "outputs": [],
   "source": [
    "# get_distance(magnet_positions[1])"
   ]
  },
  {
   "cell_type": "code",
   "execution_count": 41,
   "metadata": {},
   "outputs": [
    {
     "data": {
      "text/latex": [
       "$\\displaystyle \\left(r{\\left(t \\right)} \\sin{\\left(θ{\\left(t \\right)} \\right)} \\cos{\\left(φ{\\left(t \\right)} \\right)}\\right)\\mathbf{\\hat{i}_{C}} + \\left(r{\\left(t \\right)} \\sin{\\left(θ{\\left(t \\right)} \\right)} \\sin{\\left(φ{\\left(t \\right)} \\right)}\\right)\\mathbf{\\hat{j}_{C}} + \\left(- r{\\left(t \\right)} \\cos{\\left(θ{\\left(t \\right)} \\right)}\\right)\\mathbf{\\hat{k}_{C}}$"
      ],
      "text/plain": [
       "(r(t)*sin(θ(t))*cos(φ(t)))*C.i + (r(t)*sin(θ(t))*sin(φ(t)))*C.j + (-r(t)*cos(θ(t)))*C.k"
      ]
     },
     "execution_count": 41,
     "metadata": {},
     "output_type": "execute_result"
    }
   ],
   "source": [
    "Sph.position_vector"
   ]
  },
  {
   "cell_type": "code",
   "execution_count": 42,
   "metadata": {},
   "outputs": [
    {
     "data": {
      "text/latex": [
       "$\\displaystyle \\frac{\\rho}{3 \\left(r_{mag}^{2} - 2 r_{mag} r{\\left(t \\right)} \\sin{\\left(θ_{mag} \\right)} \\sin{\\left(θ{\\left(t \\right)} \\right)} \\cos{\\left(φ_{mag} - φ{\\left(t \\right)} \\right)} - 2 r_{mag} r{\\left(t \\right)} \\cos{\\left(θ_{mag} \\right)} \\cos{\\left(θ{\\left(t \\right)} \\right)} + r^{2}{\\left(t \\right)}\\right)^{\\frac{3}{2}}}$"
      ],
      "text/plain": [
       "\\rho/(3*(r_mag**2 - 2*r_mag*r(t)*sin(θ_mag)*sin(θ(t))*cos(φ_mag - φ(t)) - 2*r_mag*r(t)*cos(θ_mag)*cos(θ(t)) + r(t)**2)**(3/2))"
      ]
     },
     "execution_count": 42,
     "metadata": {},
     "output_type": "execute_result"
    }
   ],
   "source": [
    "polarity = sp.symbols('\\\\rho')\n",
    "magnet_position = sp.symbols(' '.join([f'{u.name}_mag' for u in Sph.U]))\n",
    "energy_equation = polarity/(Sph.get_distance(magnet_position))**3 * sp.Rational(1,3)\n",
    "energy_equation"
   ]
  },
  {
   "cell_type": "code",
   "execution_count": 43,
   "metadata": {},
   "outputs": [
    {
     "data": {
      "text/latex": [
       "$\\displaystyle \\frac{\\rho}{3 \\left(r_{mag}^{2} - 2 r_{mag} r{\\left(t \\right)} \\sin{\\left(θ_{mag} \\right)} \\sin{\\left(θ{\\left(t \\right)} \\right)} \\cos{\\left(φ_{mag} - φ{\\left(t \\right)} \\right)} - 2 r_{mag} r{\\left(t \\right)} \\cos{\\left(θ_{mag} \\right)} \\cos{\\left(θ{\\left(t \\right)} \\right)} + r^{2}{\\left(t \\right)}\\right)^{\\frac{3}{2}}}$"
      ],
      "text/plain": [
       "\\rho/(3*(r_mag**2 - 2*r_mag*r(t)*sin(θ_mag)*sin(θ(t))*cos(φ_mag - φ(t)) - 2*r_mag*r(t)*cos(θ_mag)*cos(θ(t)) + r(t)**2)**(3/2))"
      ]
     },
     "execution_count": 43,
     "metadata": {},
     "output_type": "execute_result"
    }
   ],
   "source": [
    "p.magnetic_potential_ASSUMPTION_single().E"
   ]
  },
  {
   "cell_type": "code",
   "execution_count": 68,
   "metadata": {},
   "outputs": [],
   "source": [
    "total = 0\n",
    "for i in range(num_magnets):\n",
    "    polarity_i = sp.symbols(f'\\\\rho_{i}')\n",
    "    magnet_position_i = sp.symbols(' '.join([f'{u.name}_mag\\,{i}' for u in Sph.U]))\n",
    "    term = p.magnetic_potential_ASSUMPTION_single().E.subs(zip(magnet_position, magnet_position_i)).subs(polarity, polarity_i)\n",
    "    total += sp.simplify(term.subs(dynamicsymbols('r'), sp.symbols('r')))\n",
    "# total = sp.simplify(total.subs(dynamicsymbols('r'), sp.symbols('r')))\n",
    "final_force = p.Energy(total).to_force().F\n",
    "# \n",
    "# p.magnetic_potential_ASSUMPTION_single().E.free_symbols"
   ]
  },
  {
   "cell_type": "code",
   "execution_count": 61,
   "metadata": {},
   "outputs": [
    {
     "data": {
      "text/latex": [
       "$\\displaystyle - \\frac{\\rho_{0} \\left(- 3 r + 3 r_{mag,0} \\sin{\\left(θ_{mag,0} \\right)} \\sin{\\left(θ{\\left(t \\right)} \\right)} \\cos{\\left(φ_{mag,0} - φ{\\left(t \\right)} \\right)} + 3 r_{mag,0} \\cos{\\left(θ_{mag,0} \\right)} \\cos{\\left(θ{\\left(t \\right)} \\right)}\\right)}{3 \\left(r^{2} - 2 r r_{mag,0} \\sin{\\left(θ_{mag,0} \\right)} \\sin{\\left(θ{\\left(t \\right)} \\right)} \\cos{\\left(φ_{mag,0} - φ{\\left(t \\right)} \\right)} - 2 r r_{mag,0} \\cos{\\left(θ_{mag,0} \\right)} \\cos{\\left(θ{\\left(t \\right)} \\right)} + r_{mag,0}^{2}\\right)^{\\frac{5}{2}}} - \\frac{\\rho_{1} \\left(- 3 r + 3 r_{mag,1} \\sin{\\left(θ_{mag,1} \\right)} \\sin{\\left(θ{\\left(t \\right)} \\right)} \\cos{\\left(φ_{mag,1} - φ{\\left(t \\right)} \\right)} + 3 r_{mag,1} \\cos{\\left(θ_{mag,1} \\right)} \\cos{\\left(θ{\\left(t \\right)} \\right)}\\right)}{3 \\left(r^{2} - 2 r r_{mag,1} \\sin{\\left(θ_{mag,1} \\right)} \\sin{\\left(θ{\\left(t \\right)} \\right)} \\cos{\\left(φ_{mag,1} - φ{\\left(t \\right)} \\right)} - 2 r r_{mag,1} \\cos{\\left(θ_{mag,1} \\right)} \\cos{\\left(θ{\\left(t \\right)} \\right)} + r_{mag,1}^{2}\\right)^{\\frac{5}{2}}} - \\frac{\\rho_{2} \\left(- 3 r + 3 r_{mag,2} \\sin{\\left(θ_{mag,2} \\right)} \\sin{\\left(θ{\\left(t \\right)} \\right)} \\cos{\\left(φ_{mag,2} - φ{\\left(t \\right)} \\right)} + 3 r_{mag,2} \\cos{\\left(θ_{mag,2} \\right)} \\cos{\\left(θ{\\left(t \\right)} \\right)}\\right)}{3 \\left(r^{2} - 2 r r_{mag,2} \\sin{\\left(θ_{mag,2} \\right)} \\sin{\\left(θ{\\left(t \\right)} \\right)} \\cos{\\left(φ_{mag,2} - φ{\\left(t \\right)} \\right)} - 2 r r_{mag,2} \\cos{\\left(θ_{mag,2} \\right)} \\cos{\\left(θ{\\left(t \\right)} \\right)} + r_{mag,2}^{2}\\right)^{\\frac{5}{2}}} - \\frac{\\rho_{3} \\left(- 3 r + 3 r_{mag,3} \\sin{\\left(θ_{mag,3} \\right)} \\sin{\\left(θ{\\left(t \\right)} \\right)} \\cos{\\left(φ_{mag,3} - φ{\\left(t \\right)} \\right)} + 3 r_{mag,3} \\cos{\\left(θ_{mag,3} \\right)} \\cos{\\left(θ{\\left(t \\right)} \\right)}\\right)}{3 \\left(r^{2} - 2 r r_{mag,3} \\sin{\\left(θ_{mag,3} \\right)} \\sin{\\left(θ{\\left(t \\right)} \\right)} \\cos{\\left(φ_{mag,3} - φ{\\left(t \\right)} \\right)} - 2 r r_{mag,3} \\cos{\\left(θ_{mag,3} \\right)} \\cos{\\left(θ{\\left(t \\right)} \\right)} + r_{mag,3}^{2}\\right)^{\\frac{5}{2}}}$"
      ],
      "text/plain": [
       "-\\rho_0*(-3*r + 3*r_mag,0*sin(θ_mag,0)*sin(θ(t))*cos(φ_mag,0 - φ(t)) + 3*r_mag,0*cos(θ_mag,0)*cos(θ(t)))/(3*(r**2 - 2*r*r_mag,0*sin(θ_mag,0)*sin(θ(t))*cos(φ_mag,0 - φ(t)) - 2*r*r_mag,0*cos(θ_mag,0)*cos(θ(t)) + r_mag,0**2)**(5/2)) - \\rho_1*(-3*r + 3*r_mag,1*sin(θ_mag,1)*sin(θ(t))*cos(φ_mag,1 - φ(t)) + 3*r_mag,1*cos(θ_mag,1)*cos(θ(t)))/(3*(r**2 - 2*r*r_mag,1*sin(θ_mag,1)*sin(θ(t))*cos(φ_mag,1 - φ(t)) - 2*r*r_mag,1*cos(θ_mag,1)*cos(θ(t)) + r_mag,1**2)**(5/2)) - \\rho_2*(-3*r + 3*r_mag,2*sin(θ_mag,2)*sin(θ(t))*cos(φ_mag,2 - φ(t)) + 3*r_mag,2*cos(θ_mag,2)*cos(θ(t)))/(3*(r**2 - 2*r*r_mag,2*sin(θ_mag,2)*sin(θ(t))*cos(φ_mag,2 - φ(t)) - 2*r*r_mag,2*cos(θ_mag,2)*cos(θ(t)) + r_mag,2**2)**(5/2)) - \\rho_3*(-3*r + 3*r_mag,3*sin(θ_mag,3)*sin(θ(t))*cos(φ_mag,3 - φ(t)) + 3*r_mag,3*cos(θ_mag,3)*cos(θ(t)))/(3*(r**2 - 2*r*r_mag,3*sin(θ_mag,3)*sin(θ(t))*cos(φ_mag,3 - φ(t)) - 2*r*r_mag,3*cos(θ_mag,3)*cos(θ(t)) + r_mag,3**2)**(5/2))"
      ]
     },
     "execution_count": 61,
     "metadata": {},
     "output_type": "execute_result"
    }
   ],
   "source": [
    "from sympy.physics.vector import dynamicsymbols\n",
    "final_force[0].subs(dynamicsymbols('r'), sp.symbols('r'))"
   ]
  },
  {
   "cell_type": "code",
   "execution_count": 69,
   "metadata": {},
   "outputs": [
    {
     "data": {
      "text/latex": [
       "$\\displaystyle \\frac{- \\frac{\\rho_{0} \\cdot \\left(3 r r_{mag,0} \\sin{\\left(θ_{mag,0} \\right)} \\cos{\\left(φ_{mag,0} - φ{\\left(t \\right)} \\right)} \\cos{\\left(θ{\\left(t \\right)} \\right)} - 3 r r_{mag,0} \\sin{\\left(θ{\\left(t \\right)} \\right)} \\cos{\\left(θ_{mag,0} \\right)}\\right)}{3 \\left(r^{2} - 2 r r_{mag,0} \\sin{\\left(θ_{mag,0} \\right)} \\sin{\\left(θ{\\left(t \\right)} \\right)} \\cos{\\left(φ_{mag,0} - φ{\\left(t \\right)} \\right)} - 2 r r_{mag,0} \\cos{\\left(θ_{mag,0} \\right)} \\cos{\\left(θ{\\left(t \\right)} \\right)} + r_{mag,0}^{2}\\right)^{\\frac{5}{2}}} - \\frac{\\rho_{1} \\cdot \\left(3 r r_{mag,1} \\sin{\\left(θ_{mag,1} \\right)} \\cos{\\left(φ_{mag,1} - φ{\\left(t \\right)} \\right)} \\cos{\\left(θ{\\left(t \\right)} \\right)} - 3 r r_{mag,1} \\sin{\\left(θ{\\left(t \\right)} \\right)} \\cos{\\left(θ_{mag,1} \\right)}\\right)}{3 \\left(r^{2} - 2 r r_{mag,1} \\sin{\\left(θ_{mag,1} \\right)} \\sin{\\left(θ{\\left(t \\right)} \\right)} \\cos{\\left(φ_{mag,1} - φ{\\left(t \\right)} \\right)} - 2 r r_{mag,1} \\cos{\\left(θ_{mag,1} \\right)} \\cos{\\left(θ{\\left(t \\right)} \\right)} + r_{mag,1}^{2}\\right)^{\\frac{5}{2}}} - \\frac{\\rho_{2} \\cdot \\left(3 r r_{mag,2} \\sin{\\left(θ_{mag,2} \\right)} \\cos{\\left(φ_{mag,2} - φ{\\left(t \\right)} \\right)} \\cos{\\left(θ{\\left(t \\right)} \\right)} - 3 r r_{mag,2} \\sin{\\left(θ{\\left(t \\right)} \\right)} \\cos{\\left(θ_{mag,2} \\right)}\\right)}{3 \\left(r^{2} - 2 r r_{mag,2} \\sin{\\left(θ_{mag,2} \\right)} \\sin{\\left(θ{\\left(t \\right)} \\right)} \\cos{\\left(φ_{mag,2} - φ{\\left(t \\right)} \\right)} - 2 r r_{mag,2} \\cos{\\left(θ_{mag,2} \\right)} \\cos{\\left(θ{\\left(t \\right)} \\right)} + r_{mag,2}^{2}\\right)^{\\frac{5}{2}}} - \\frac{\\rho_{3} \\cdot \\left(3 r r_{mag,3} \\sin{\\left(θ_{mag,3} \\right)} \\cos{\\left(φ_{mag,3} - φ{\\left(t \\right)} \\right)} \\cos{\\left(θ{\\left(t \\right)} \\right)} - 3 r r_{mag,3} \\sin{\\left(θ{\\left(t \\right)} \\right)} \\cos{\\left(θ_{mag,3} \\right)}\\right)}{3 \\left(r^{2} - 2 r r_{mag,3} \\sin{\\left(θ_{mag,3} \\right)} \\sin{\\left(θ{\\left(t \\right)} \\right)} \\cos{\\left(φ_{mag,3} - φ{\\left(t \\right)} \\right)} - 2 r r_{mag,3} \\cos{\\left(θ_{mag,3} \\right)} \\cos{\\left(θ{\\left(t \\right)} \\right)} + r_{mag,3}^{2}\\right)^{\\frac{5}{2}}}}{r{\\left(t \\right)}}$"
      ],
      "text/plain": [
       "(-\\rho_0*(3*r*r_mag,0*sin(θ_mag,0)*cos(φ_mag,0 - φ(t))*cos(θ(t)) - 3*r*r_mag,0*sin(θ(t))*cos(θ_mag,0))/(3*(r**2 - 2*r*r_mag,0*sin(θ_mag,0)*sin(θ(t))*cos(φ_mag,0 - φ(t)) - 2*r*r_mag,0*cos(θ_mag,0)*cos(θ(t)) + r_mag,0**2)**(5/2)) - \\rho_1*(3*r*r_mag,1*sin(θ_mag,1)*cos(φ_mag,1 - φ(t))*cos(θ(t)) - 3*r*r_mag,1*sin(θ(t))*cos(θ_mag,1))/(3*(r**2 - 2*r*r_mag,1*sin(θ_mag,1)*sin(θ(t))*cos(φ_mag,1 - φ(t)) - 2*r*r_mag,1*cos(θ_mag,1)*cos(θ(t)) + r_mag,1**2)**(5/2)) - \\rho_2*(3*r*r_mag,2*sin(θ_mag,2)*cos(φ_mag,2 - φ(t))*cos(θ(t)) - 3*r*r_mag,2*sin(θ(t))*cos(θ_mag,2))/(3*(r**2 - 2*r*r_mag,2*sin(θ_mag,2)*sin(θ(t))*cos(φ_mag,2 - φ(t)) - 2*r*r_mag,2*cos(θ_mag,2)*cos(θ(t)) + r_mag,2**2)**(5/2)) - \\rho_3*(3*r*r_mag,3*sin(θ_mag,3)*cos(φ_mag,3 - φ(t))*cos(θ(t)) - 3*r*r_mag,3*sin(θ(t))*cos(θ_mag,3))/(3*(r**2 - 2*r*r_mag,3*sin(θ_mag,3)*sin(θ(t))*cos(φ_mag,3 - φ(t)) - 2*r*r_mag,3*cos(θ_mag,3)*cos(θ(t)) + r_mag,3**2)**(5/2)))/r(t)"
      ]
     },
     "execution_count": 69,
     "metadata": {},
     "output_type": "execute_result"
    }
   ],
   "source": [
    "final_force[1]"
   ]
  }
 ],
 "metadata": {
  "kernelspec": {
   "display_name": "standard",
   "language": "python",
   "name": "python3"
  },
  "language_info": {
   "codemirror_mode": {
    "name": "ipython",
    "version": 3
   },
   "file_extension": ".py",
   "mimetype": "text/x-python",
   "name": "python",
   "nbconvert_exporter": "python",
   "pygments_lexer": "ipython3",
   "version": "3.11.5"
  }
 },
 "nbformat": 4,
 "nbformat_minor": 2
}
