{
 "cells": [
  {
   "cell_type": "code",
   "execution_count": 2,
   "metadata": {},
   "outputs": [],
   "source": [
    "from coordinate_systems import get_predefined_system\n",
    "import sympy as sp\n",
    "\n",
    "t = sp.symbols('t')\n",
    "Sph = get_predefined_system('InvSpherical')(t)"
   ]
  },
  {
   "cell_type": "code",
   "execution_count": 3,
   "metadata": {},
   "outputs": [
    {
     "data": {
      "text/latex": [
       "$\\displaystyle - \\frac{b r^{2}{\\left(t \\right)} \\frac{d}{d t} θ{\\left(t \\right)}}{\\sqrt{r^{2}{\\left(t \\right)}}}$"
      ],
      "text/plain": [
       "-b*r(t)**2*Derivative(θ(t), t)/sqrt(r(t)**2)"
      ]
     },
     "execution_count": 3,
     "metadata": {},
     "output_type": "execute_result"
    }
   ],
   "source": [
    "b = sp.symbols('b', nonnegative=True)\n",
    "\n",
    "damping_force = [-b*unit_v for unit_v in Sph.velocity_vector]\n",
    "damping_force[1]"
   ]
  },
  {
   "cell_type": "code",
   "execution_count": 9,
   "metadata": {},
   "outputs": [
    {
     "data": {
      "text/plain": [
       "array([-b*Derivative(r(t), t),\n",
       "       -b*r(t)**2*Derivative(θ(t), t)/sqrt(r(t)**2),\n",
       "       -b*sqrt(r(t)**2*sin(θ(t))**2)*Derivative(φ(t), t)], dtype=object)"
      ]
     },
     "execution_count": 9,
     "metadata": {},
     "output_type": "execute_result"
    }
   ],
   "source": [
    "### can we use numpy to make the vector shit a bit easier? or shld I be using BasisVectors or some shit in sympy?\n",
    "import numpy as np\n",
    "velocity_vector_np = np.array(Sph.velocity_vector)\n",
    "damping_force_np = -b*velocity_vector_np\n",
    "damping_force_np\n",
    "### YES!!!!! this seems smarter ....."
   ]
  }
 ],
 "metadata": {
  "kernelspec": {
   "display_name": "standard",
   "language": "python",
   "name": "python3"
  },
  "language_info": {
   "codemirror_mode": {
    "name": "ipython",
    "version": 3
   },
   "file_extension": ".py",
   "mimetype": "text/x-python",
   "name": "python",
   "nbconvert_exporter": "python",
   "pygments_lexer": "ipython3",
   "version": "3.11.5"
  }
 },
 "nbformat": 4,
 "nbformat_minor": 2
}
