{
 "cells": [
  {
   "cell_type": "code",
   "execution_count": 1,
   "metadata": {},
   "outputs": [],
   "source": [
    "from coordinate_systems import get_predefined_system\n",
    "import sympy as sp\n",
    "import numpy as np\n",
    "from forces_energy import Force, Energy\n",
    "\n",
    "Sph = get_predefined_system('InvSpherical')\n"
   ]
  },
  {
   "cell_type": "code",
   "execution_count": 2,
   "metadata": {},
   "outputs": [
    {
     "data": {
      "text/latex": [
       "$\\displaystyle - b r{\\left(t \\right)} \\frac{d}{d t} θ{\\left(t \\right)}$"
      ],
      "text/plain": [
       "-b*r(t)*Derivative(θ(t), t)"
      ]
     },
     "execution_count": 2,
     "metadata": {},
     "output_type": "execute_result"
    }
   ],
   "source": [
    "b = sp.symbols('b', nonnegative=True)\n",
    "\n",
    "damping_force = [-b*unit_v for unit_v in Sph.velocity_vector]\n",
    "damping_force[1]"
   ]
  },
  {
   "cell_type": "code",
   "execution_count": 3,
   "metadata": {},
   "outputs": [
    {
     "name": "stdout",
     "output_type": "stream",
     "text": [
      "[g*m*cos(θ(t)), -g*m*r(t)*sin(θ(t)), 0]\n",
      "[g*m*cos(θ(t)) -g*m*r(t)*sin(θ(t)) 0]\n"
     ]
    }
   ],
   "source": [
    "### GPE example\n",
    "m, g, z0 = sp.symbols('m g z0')\n",
    "h = z0 + Sph.position_vector.dot(Sph.C.k)\n",
    "E = m*g*h\n",
    "\n",
    "vector = []\n",
    "for u in Sph.U:\n",
    "    vector.append(-sp.diff(E, u))\n",
    "print(vector)\n",
    "\n",
    "print(-np.vectorize(sp.diff)(E, Sph.U))"
   ]
  },
  {
   "cell_type": "code",
   "execution_count": 4,
   "metadata": {},
   "outputs": [
    {
     "data": {
      "text/latex": [
       "$\\displaystyle g m \\cos{\\left(θ{\\left(t \\right)} \\right)}$"
      ],
      "text/plain": [
       "g*m*cos(θ(t))"
      ]
     },
     "metadata": {},
     "output_type": "display_data"
    },
    {
     "data": {
      "text/latex": [
       "$\\displaystyle - g m \\sin{\\left(θ{\\left(t \\right)} \\right)}$"
      ],
      "text/plain": [
       "-g*m*sin(θ(t))"
      ]
     },
     "metadata": {},
     "output_type": "display_data"
    },
    {
     "data": {
      "text/latex": [
       "$\\displaystyle 0$"
      ],
      "text/plain": [
       "0"
      ]
     },
     "metadata": {},
     "output_type": "display_data"
    }
   ],
   "source": [
    "gpe = Energy(E, Sph)\n",
    "for x in gpe.to_force().F:\n",
    "    display(x)"
   ]
  }
 ],
 "metadata": {
  "kernelspec": {
   "display_name": "standard",
   "language": "python",
   "name": "python3"
  },
  "language_info": {
   "codemirror_mode": {
    "name": "ipython",
    "version": 3
   },
   "file_extension": ".py",
   "mimetype": "text/x-python",
   "name": "python",
   "nbconvert_exporter": "python",
   "pygments_lexer": "ipython3",
   "version": "3.11.5"
  }
 },
 "nbformat": 4,
 "nbformat_minor": 2
}
