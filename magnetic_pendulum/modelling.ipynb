{
 "cells": [
  {
   "cell_type": "code",
   "execution_count": 1,
   "id": "65a7b274",
   "metadata": {},
   "outputs": [],
   "source": [
    "from math import atan, sin, cos, pi, sqrt\n",
    "from scipy.constants import g\n",
    "import numpy as np\n",
    "from scipy.integrate import RK45"
   ]
  },
  {
   "cell_type": "code",
   "execution_count": 2,
   "id": "ec305aff",
   "metadata": {},
   "outputs": [],
   "source": [
    "m = 1    # Mass\n",
    "\n",
    "b = 0.3  # Damping coefficient\n",
    "h = 0.5  # Height above the x-y plane\n",
    "\n",
    "L = g  # bob length\n",
    "R = 0.5  # magnet radius\n",
    "\n",
    "rmag = sqrt((L+h)**2 + R**2)\n",
    "θmag = atan(R/(L+h))\n",
    "ϕmag_list = np.array([(pi/2) * i for i in range(4)])  # -> magnets at (0, R), (0, -R), (-R, 0), (R, 0)\n",
    "strength = 1\n",
    "polarity_list = np.array([1,1,1,1]) * strength"
   ]
  },
  {
   "cell_type": "markdown",
   "id": "c922678c",
   "metadata": {},
   "source": [
    "## define eqns"
   ]
  },
  {
   "cell_type": "code",
   "execution_count": 3,
   "id": "1d2030a6",
   "metadata": {},
   "outputs": [],
   "source": [
    "def polar_distance(r1_v, r2_v):\n",
    "    (r1,t1,p1) = r1_v\n",
    "    (r2,t2,p2) = r2_v\n",
    "    return sqrt(\n",
    "                (r1)**2 + (r2)**2\n",
    "                - 2*(r1)*(r2)*(sin(t1)*sin(t2)*cos(p1-p2) + cos(t1)*cos(t2))\n",
    "            )"
   ]
  },
  {
   "cell_type": "code",
   "execution_count": 7,
   "id": "eee737fa",
   "metadata": {},
   "outputs": [],
   "source": [
    "def force_by_magnets(θ, ϕ, θv, ϕv):\n",
    "    \"\"\"this is so ugly\"\"\"\n",
    "    distance = lambda ϕmag: polar_distance((L,θ,ϕ), (rmag,θmag,ϕmag))\n",
    "    \n",
    "    def force_by_single_magnet_θ(polarity, ϕmag):\n",
    "        direction_component = cos(θ)*sin(θmag)*cos(ϕ-ϕmag) - sin(θ)*cos(θmag)\n",
    "        return (polarity/(distance(ϕmag))**5) * direction_component\n",
    "    \n",
    "    def force_by_single_magnet_ϕ(polarity, ϕmag):\n",
    "        direction_component = -sin(θmag)*sin(ϕ-ϕmag)        \n",
    "        return  (polarity/(distance(ϕmag))**5) * direction_component\n",
    "\n",
    "    return np.array([\n",
    "        sum(np.vectorize(force_by_single_magnet_θ)(polarity_list, ϕmag_list)),\n",
    "        sum(np.vectorize(force_by_single_magnet_ϕ)(polarity_list, ϕmag_list))\n",
    "    ])\n",
    "\n",
    "def force_by_gravity(θ, ϕ, θv, ϕv):\n",
    "    return np.array([\n",
    "        -m*g*sin(θ),\n",
    "        0\n",
    "    ])\n",
    "\n",
    "def force_of_damping(θ, ϕ, θv, ϕv):\n",
    "    return -b*L * np.array([\n",
    "        θv,\n",
    "        ϕv*sin(θ)\n",
    "    ])"
   ]
  },
  {
   "cell_type": "code",
   "execution_count": 13,
   "id": "05f1de57",
   "metadata": {},
   "outputs": [],
   "source": [
    "def ddt(t, y_array):\n",
    "    θ, ϕ, θv, ϕv = y_array\n",
    "    force_θ, force_ϕ = (force_by_gravity(θ, ϕ, θv, ϕv)\n",
    "                        + force_by_magnets(θ, ϕ, θv, ϕv)\n",
    "                        + force_of_damping(θ, ϕ, θv, ϕv))\n",
    "    return np.array([\n",
    "        θv,\n",
    "        ϕv,\n",
    "        (force_θ + L*(ϕv**2)*sin(θ)*cos(θ))/L,\n",
    "        (force_ϕ - 2*L*θv*ϕv*cos(θ))/(L*sin(θ))\n",
    "    ])"
   ]
  },
  {
   "cell_type": "markdown",
   "id": "38d108f5",
   "metadata": {},
   "source": [
    "## run pendlum model"
   ]
  },
  {
   "cell_type": "code",
   "execution_count": 36,
   "id": "614de75b",
   "metadata": {},
   "outputs": [],
   "source": [
    "starting_conditions = np.array([\n",
    "    pi/6,\n",
    "    pi/6,\n",
    "    0,\n",
    "    0\n",
    "])\n",
    "\n",
    "integrator = RK45(ddt, 0, starting_conditions, t_bound=100, first_step=0.001, max_step=0.01)"
   ]
  },
  {
   "cell_type": "code",
   "execution_count": 25,
   "id": "7e164be3",
   "metadata": {},
   "outputs": [
    {
     "data": {
      "text/plain": [
       "array([ 0.00000000e+00,  0.00000000e+00, -5.00053651e-01, -4.18021025e-08])"
      ]
     },
     "execution_count": 25,
     "metadata": {},
     "output_type": "execute_result"
    }
   ],
   "source": [
    "ddt(0, starting_conditions)"
   ]
  },
  {
   "cell_type": "code",
   "execution_count": 39,
   "id": "77b65ea7",
   "metadata": {},
   "outputs": [],
   "source": [
    "result = []\n",
    "while not (integrator.status == 'finished'):\n",
    "    path.append([integrator.t, *integrator.y])\n",
    "    integrator.step()\n",
    "    "
   ]
  },
  {
   "cell_type": "code",
   "execution_count": 56,
   "id": "806a69a3",
   "metadata": {},
   "outputs": [],
   "source": [
    "result = np.array(path)\n",
    "to_cartesian = lambda result_v: ########################################## "
   ]
  },
  {
   "cell_type": "markdown",
   "id": "f37d35a8",
   "metadata": {},
   "source": [
    "## graphing"
   ]
  },
  {
   "cell_type": "code",
   "execution_count": 57,
   "id": "ef633984",
   "metadata": {},
   "outputs": [],
   "source": [
    "from matplotlib import projections\n",
    "import matplotlib.pyplot as plt\n",
    "import numpy as np\n",
    "\n",
    "import matplotlib.animation as animation\n",
    "\n",
    "def plot_trajectory(trajectory, magnets):\n",
    "    \n",
    "    ax = plt.figure(figsize=(8, 8)).add_subplot(projection='3d')\n",
    "    # plt.title(f'Magnetic Pendulum Trajectory')\n",
    "    ax.set_title(f'Magnetic Pendulum Trajectory')\n",
    "    # Plot the trajectory\n",
    "    ax.plot(*trajectory.T, label='Pendulum Path', zorder=1)  \n",
    "\n",
    "    # Plot the magnet positions\n",
    "    ax.scatter(*zip(*[m.pos.to_cartesian().coords.astype(np.double) for m in magnets]), color='red', label='Magnets', zorder=2)  \n",
    "\n",
    "    # Plot the final & initial positions of the pendulum\n",
    "    final_position = trajectory[-1]\n",
    "    initial_position = trajectory[0]\n",
    "    ax.scatter(*final_position, color='cyan', label='Final Position', s=10, zorder=3)\n",
    "    ax.scatter(*initial_position, color='black', label='Initial Position', s=10, zorder=3)\n",
    "\n",
    "    ax.legend()\n",
    "    ax.grid(True)\n",
    "    ax.axis('equal')\n",
    "    plt.show()\n",
    "\n",
    "def plot_trajectory_rotate(trajectory, magnets):\n",
    "\n",
    "    ax = plt.figure(figsize=(8, 8)).add_subplot(projection='3d')\n",
    "    # plt.title(f'Magnetic Pendulum Trajectory')\n",
    "    ax.set_title(f'Magnetic Pendulum Trajectory')\n",
    "    # Plot the trajectory\n",
    "    ax.plot(*trajectory.T, label='Pendulum Path', zorder=1)  \n",
    "\n",
    "    # Plot the magnet positions\n",
    "    ax.scatter(*zip(*[m.pos.to_cartesian().coords.astype(np.double) for m in magnets]), color='red', label='Magnets', zorder=2)  \n",
    "\n",
    "    # Plot the final & initial positions of the pendulum\n",
    "    final_position = trajectory[-1]\n",
    "    initial_position = trajectory[0]\n",
    "    ax.scatter(*final_position, color='cyan', label='Final Position', s=10, zorder=3)\n",
    "    ax.scatter(*initial_position, color='black', label='Initial Position', s=10, zorder=3)\n",
    "\n",
    "    ax.legend()\n",
    "    ax.grid(True)\n",
    "    ax.axis('equal')\n",
    "\n",
    "\n",
    "    # Rotate the axes and update\n",
    "    while True:\n",
    "        for angle in range(0, 360):\n",
    "            # Normalize the angle to the range [-180, 180] for display\n",
    "            angle_norm = (angle + 180) % 360 - 180\n",
    "            # Cycle through a full rotation of elevation, then azimuth, roll, and all\n",
    "            elev = azim = roll = 0\n",
    "            elev = 13\n",
    "            azim = angle_norm\n",
    "\n",
    "\n",
    "            # Update the axis view and title\n",
    "            ax.view_init(elev, azim, roll)\n",
    "            plt.title('Elevation: %d°, Azimuth: %d°, Roll: %d°' % (elev, azim, roll))\n",
    "\n",
    "            plt.draw()\n",
    "            plt.pause(.001)\n",
    "\n",
    "def plot_trajectory_animation(trajectory, magnets, dt=0.01):\n",
    "\n",
    "    fig = plt.figure(figsize=(8, 8))\n",
    "    ax = fig.add_subplot(projection=\"3d\")\n",
    "    # plt.title(f'Magnetic Pendulum Trajectory')\n",
    "    ax.set_title(f'Magnetic Pendulum Trajectory')\n",
    "    # Plot the trajectory\n",
    "    ax.plot(*trajectory.T, label='Pendulum Path', color='gray', alpha=0.1, zorder=1)  \n",
    "\n",
    "    # Plot the magnet positions\n",
    "    ax.scatter(*zip(*[m.pos.to_cartesian().coords.astype(np.double) for m in magnets]), color='red', label='Magnets', zorder=2)  \n",
    "\n",
    "    # Plot the final & initial positions of the pendulum\n",
    "    final_position = trajectory[-1]\n",
    "    initial_position = trajectory[0]\n",
    "    ax.scatter(*final_position, color='cyan', label='Final Position', s=10, zorder=3)\n",
    "    ax.scatter(*initial_position, color='black', label='Initial Position', s=10, zorder=3)\n",
    "\n",
    "    ax.legend()\n",
    "    ax.grid(True)\n",
    "    ax.axis('equal') \n",
    "\n",
    "    line, = ax.plot([], [], [], 'o-', lw=2)\n",
    "    trace, = ax.plot([], [], [], '.-', lw=1, ms=2)\n",
    "    time_template = 'time = %.1f'\n",
    "    time_text = ax.text(0.05, 0.9, 0.9, '', transform=ax.transAxes)\n",
    "\n",
    "\n",
    "    def animate(i):\n",
    "        this = trajectory[i:i+1]\n",
    "        history = trajectory[:i]\n",
    "\n",
    "        line.set_data_3d(this.T)\n",
    "        trace.set_data_3d(history.T)\n",
    "        time_text.set_text(time_template % (i))\n",
    "        return line, trace, time_text\n",
    "\n",
    "    N = len(trajectory)\n",
    "    ani = animation.FuncAnimation(\n",
    "        fig, animate, N, interval=dt/3, blit=True)\n",
    "    plt.show()"
   ]
  }
 ],
 "metadata": {
  "kernelspec": {
   "display_name": "Python 3 (ipykernel)",
   "language": "python",
   "name": "python3"
  },
  "language_info": {
   "codemirror_mode": {
    "name": "ipython",
    "version": 3
   },
   "file_extension": ".py",
   "mimetype": "text/x-python",
   "name": "python",
   "nbconvert_exporter": "python",
   "pygments_lexer": "ipython3",
   "version": "3.11.5"
  }
 },
 "nbformat": 4,
 "nbformat_minor": 5
}
