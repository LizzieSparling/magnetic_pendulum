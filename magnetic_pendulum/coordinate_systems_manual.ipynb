{
 "cells": [
  {
   "cell_type": "markdown",
   "metadata": {},
   "source": [
    "## Thinking: how do I change to include stuff like position vectors"
   ]
  },
  {
   "cell_type": "code",
   "execution_count": 20,
   "metadata": {},
   "outputs": [
    {
     "data": {
      "text/latex": [
       "$\\displaystyle \\left(r{\\left(t \\right)} \\sin{\\left(θ{\\left(t \\right)} \\right)} \\cos{\\left(ϕ{\\left(t \\right)} \\right)}\\right)\\mathbf{\\hat{i}_{C}} + \\left(r{\\left(t \\right)} \\sin{\\left(θ{\\left(t \\right)} \\right)} \\sin{\\left(ϕ{\\left(t \\right)} \\right)}\\right)\\mathbf{\\hat{j}_{C}} + \\left(- r{\\left(t \\right)} \\cos{\\left(θ{\\left(t \\right)} \\right)}\\right)\\mathbf{\\hat{k}_{C}}$"
      ],
      "text/plain": [
       "(r(t)*sin(θ(t))*cos(ϕ(t)))*C.i + (r(t)*sin(θ(t))*sin(ϕ(t)))*C.j + (-r(t)*cos(θ(t)))*C.k"
      ]
     },
     "execution_count": 20,
     "metadata": {},
     "output_type": "execute_result"
    }
   ],
   "source": [
    "from sympy import symbols\n",
    "from sympy.vector import CoordSys3D, express\n",
    "from sympy import sin, cos, Derivative, diff, sqrt, Function, simplify, collect\n",
    "\n",
    "C = CoordSys3D('C')  # standard Cartesian system\n",
    "t = symbols('t')\n",
    "def func_of_t(*args, **kwargs):\n",
    "    return Function(*args, **kwargs)(t)\n",
    "# func_of_t = lambda s : Function(s)(t)\n",
    "# r, θ, ϕ = symbols('r θ ϕ', cls=func_of_t)\n",
    "θ, ϕ = symbols('θ ϕ', cls=func_of_t)\n",
    "r= symbols('r', cls=func_of_t)\n",
    "\n",
    "\n",
    "r_ = (r*sin(θ)*cos(φ))*C.i + (r*sin(θ)*sin(φ))*C.j + (-r*cos(θ))*C.k\n",
    "\n",
    "# r, θ, ϕ\n",
    "r_"
   ]
  },
  {
   "cell_type": "code",
   "execution_count": 21,
   "metadata": {},
   "outputs": [
    {
     "data": {
      "text/plain": [
       "(r,\n",
       " AppliedUndef,\n",
       " Function,\n",
       " Application,\n",
       " sympy.core.expr.Expr,\n",
       " sympy.core.basic.Basic,\n",
       " sympy.printing.defaults.Printable,\n",
       " sympy.core.evalf.EvalfMixin,\n",
       " object)"
      ]
     },
     "execution_count": 21,
     "metadata": {},
     "output_type": "execute_result"
    }
   ],
   "source": [
    "type(r).__mro__"
   ]
  },
  {
   "cell_type": "code",
   "execution_count": 22,
   "metadata": {},
   "outputs": [],
   "source": [
    "# norm = lambda v: sqrt(v.dot(v))\n",
    "\n",
    "# lame = {\n",
    "#     r: 1,\n",
    "#     θ: r,\n",
    "#     ϕ: r*sin(θ)\n",
    "# }\n",
    "\n",
    "position = [r, θ, ϕ]\n",
    "hat = {}\n",
    "lame = {}\n",
    "norm = lambda v: sqrt(v.dot(v))\n",
    "getsym = lambda a: '\\\\underline{\\hat{' + a + '}}'\n",
    "r_hat, θ_hat, ϕ_hat = symbols(' '.join([getsym('r'),getsym('θ'),getsym('ϕ')]), cls=func_of_t)\n",
    "\n",
    "for a in position:\n",
    "    lame[a] = simplify(norm(Derivative(r_, a).doit()))  # need to set assumption that r > 0 somehow!\n",
    "    hat[a] = Derivative(r_, a).doit()/lame[a]\n"
   ]
  },
  {
   "cell_type": "code",
   "execution_count": 23,
   "metadata": {},
   "outputs": [
    {
     "data": {
      "text/latex": [
       "$\\displaystyle \\left(\\sin{\\left(θ{\\left(t \\right)} \\right)} \\cos{\\left(ϕ{\\left(t \\right)} \\right)}\\right)\\mathbf{\\hat{i}_{C}} + \\left(\\sin{\\left(θ{\\left(t \\right)} \\right)} \\sin{\\left(ϕ{\\left(t \\right)} \\right)}\\right)\\mathbf{\\hat{j}_{C}} + \\left(- \\cos{\\left(θ{\\left(t \\right)} \\right)}\\right)\\mathbf{\\hat{k}_{C}}$"
      ],
      "text/plain": [
       "(sin(θ(t))*cos(ϕ(t)))*C.i + (sin(θ(t))*sin(ϕ(t)))*C.j + (-cos(θ(t)))*C.k"
      ]
     },
     "execution_count": 23,
     "metadata": {},
     "output_type": "execute_result"
    }
   ],
   "source": [
    "hat[r]"
   ]
  },
  {
   "cell_type": "code",
   "execution_count": null,
   "metadata": {},
   "outputs": [],
   "source": []
  },
  {
   "cell_type": "code",
   "execution_count": 24,
   "metadata": {},
   "outputs": [
    {
     "data": {
      "text/latex": [
       "$\\displaystyle \\frac{- \\sqrt{r^{2}{\\left(t \\right)} \\sin^{2}{\\left(θ{\\left(t \\right)} \\right)}} \\left(r{\\left(t \\right)} \\sin^{2}{\\left(θ{\\left(t \\right)} \\right)} \\left(\\frac{d}{d t} ϕ{\\left(t \\right)}\\right)^{2} + r{\\left(t \\right)} \\left(\\frac{d}{d t} θ{\\left(t \\right)}\\right)^{2} - \\frac{d^{2}}{d t^{2}} r{\\left(t \\right)}\\right) \\sqrt{r^{2}{\\left(t \\right)}} \\underline{\\hat{r}}{\\left(t \\right)} + \\sqrt{r^{2}{\\left(t \\right)} \\sin^{2}{\\left(θ{\\left(t \\right)} \\right)}} \\left(- \\frac{r{\\left(t \\right)} \\sin{\\left(2 θ{\\left(t \\right)} \\right)} \\left(\\frac{d}{d t} ϕ{\\left(t \\right)}\\right)^{2}}{2} + r{\\left(t \\right)} \\frac{d^{2}}{d t^{2}} θ{\\left(t \\right)} + 2 \\frac{d}{d t} r{\\left(t \\right)} \\frac{d}{d t} θ{\\left(t \\right)}\\right) \\underline{\\hat{θ}}{\\left(t \\right)} r{\\left(t \\right)} + \\left(r{\\left(t \\right)} \\sin{\\left(2 θ{\\left(t \\right)} \\right)} \\frac{d}{d t} θ{\\left(t \\right)} \\frac{d}{d t} ϕ{\\left(t \\right)} - \\frac{r{\\left(t \\right)} \\cos{\\left(2 θ{\\left(t \\right)} \\right)} \\frac{d^{2}}{d t^{2}} ϕ{\\left(t \\right)}}{2} + \\frac{r{\\left(t \\right)} \\frac{d^{2}}{d t^{2}} ϕ{\\left(t \\right)}}{2} - \\cos{\\left(2 θ{\\left(t \\right)} \\right)} \\frac{d}{d t} r{\\left(t \\right)} \\frac{d}{d t} ϕ{\\left(t \\right)} + \\frac{d}{d t} r{\\left(t \\right)} \\frac{d}{d t} ϕ{\\left(t \\right)}\\right) \\sqrt{r^{2}{\\left(t \\right)}} \\underline{\\hat{ϕ}}{\\left(t \\right)} r{\\left(t \\right)}}{\\sqrt{r^{2}{\\left(t \\right)} \\sin^{2}{\\left(θ{\\left(t \\right)} \\right)}} \\sqrt{r^{2}{\\left(t \\right)}}}$"
      ],
      "text/plain": [
       "(-sqrt(r(t)**2*sin(θ(t))**2)*(r(t)*sin(θ(t))**2*Derivative(ϕ(t), t)**2 + r(t)*Derivative(θ(t), t)**2 - Derivative(r(t), (t, 2)))*sqrt(r(t)**2)*\\underline{\\hat{r}}(t) + sqrt(r(t)**2*sin(θ(t))**2)*(-r(t)*sin(2*θ(t))*Derivative(ϕ(t), t)**2/2 + r(t)*Derivative(θ(t), (t, 2)) + 2*Derivative(r(t), t)*Derivative(θ(t), t))*\\underline{\\hat{θ}}(t)*r(t) + (r(t)*sin(2*θ(t))*Derivative(θ(t), t)*Derivative(ϕ(t), t) - r(t)*cos(2*θ(t))*Derivative(ϕ(t), (t, 2))/2 + r(t)*Derivative(ϕ(t), (t, 2))/2 - cos(2*θ(t))*Derivative(r(t), t)*Derivative(ϕ(t), t) + Derivative(r(t), t)*Derivative(ϕ(t), t))*sqrt(r(t)**2)*\\underline{\\hat{ϕ}}(t)*r(t))/(sqrt(r(t)**2*sin(θ(t))**2)*sqrt(r(t)**2))"
      ]
     },
     "execution_count": 24,
     "metadata": {},
     "output_type": "execute_result"
    }
   ],
   "source": [
    "a = diff(diff(r*hat[r], t))\n",
    "expr = simplify(a.dot(hat[θ])*θ_hat + a.dot(hat[ϕ])*ϕ_hat + a.dot(hat[r])*r_hat)\n",
    "expr"
   ]
  },
  {
   "cell_type": "code",
   "execution_count": 25,
   "metadata": {},
   "outputs": [
    {
     "ename": "KeyError",
     "evalue": "\\underline{\\hat{r}}(t)",
     "output_type": "error",
     "traceback": [
      "\u001b[0;31m---------------------------------------------------------------------------\u001b[0m",
      "\u001b[0;31mKeyError\u001b[0m                                  Traceback (most recent call last)",
      "Cell \u001b[0;32mIn[25], line 1\u001b[0m\n\u001b[0;32m----> 1\u001b[0m simplify(\u001b[43mcollect\u001b[49m\u001b[43m(\u001b[49m\u001b[43mexpr\u001b[49m\u001b[43m,\u001b[49m\u001b[43m \u001b[49m\u001b[43msyms\u001b[49m\u001b[38;5;241;43m=\u001b[39;49m\u001b[43m[\u001b[49m\u001b[43mr_hat\u001b[49m\u001b[43m,\u001b[49m\u001b[43m \u001b[49m\u001b[43mθ_hat\u001b[49m\u001b[43m,\u001b[49m\u001b[43m \u001b[49m\u001b[43mϕ_hat\u001b[49m\u001b[43m]\u001b[49m\u001b[43m,\u001b[49m\u001b[43m \u001b[49m\u001b[43mevaluate\u001b[49m\u001b[38;5;241;43m=\u001b[39;49m\u001b[38;5;28;43;01mFalse\u001b[39;49;00m\u001b[43m)\u001b[49m\u001b[43m[\u001b[49m\u001b[43mr_hat\u001b[49m\u001b[43m]\u001b[49m)\n\u001b[1;32m      2\u001b[0m \u001b[38;5;66;03m### YES>???!!! YES!!!?????!!!!!! :>>>>>>\u001b[39;00m\n",
      "\u001b[0;31mKeyError\u001b[0m: \\underline{\\hat{r}}(t)"
     ]
    }
   ],
   "source": [
    "simplify(collect(expr, syms=[r_hat, θ_hat, ϕ_hat], evaluate=False)[r_hat])\n",
    "### YES>???!!! YES!!!?????!!!!!! :>>>>>>"
   ]
  },
  {
   "cell_type": "code",
   "execution_count": null,
   "metadata": {},
   "outputs": [
    {
     "data": {
      "text/plain": [
       "sympy.vector.vector.VectorZero"
      ]
     },
     "execution_count": 133,
     "metadata": {},
     "output_type": "execute_result"
    }
   ],
   "source": [
    "z = simplify(a.dot(hat[r])*r_hat)\n",
    "type(z)"
   ]
  },
  {
   "cell_type": "code",
   "execution_count": null,
   "metadata": {},
   "outputs": [
    {
     "data": {
      "text/latex": [
       "$\\displaystyle r{\\left(t \\right)} \\cos{\\left(θ{\\left(t \\right)} \\right)} \\frac{d}{d t} θ{\\left(t \\right)} + \\sin{\\left(θ{\\left(t \\right)} \\right)} \\frac{d}{d t} r{\\left(t \\right)}$"
      ],
      "text/plain": [
       "r(t)*cos(θ(t))*Derivative(θ(t), t) + sin(θ(t))*Derivative(r(t), t)"
      ]
     },
     "execution_count": 124,
     "metadata": {},
     "output_type": "execute_result"
    }
   ],
   "source": [
    "Derivative(lame[ϕ], t).doit()"
   ]
  },
  {
   "cell_type": "code",
   "execution_count": null,
   "metadata": {},
   "outputs": [
    {
     "data": {
      "text/latex": [
       "$\\displaystyle \\left[\\begin{matrix}- \\sin{\\left(θ{\\left(t \\right)} \\right)} \\sin{\\left(ϕ{\\left(t \\right)} \\right)} \\frac{d}{d t} ϕ{\\left(t \\right)} + \\cos{\\left(θ{\\left(t \\right)} \\right)} \\cos{\\left(ϕ{\\left(t \\right)} \\right)} \\frac{d}{d t} θ{\\left(t \\right)}\\\\\\sin{\\left(θ{\\left(t \\right)} \\right)} \\cos{\\left(ϕ{\\left(t \\right)} \\right)} \\frac{d}{d t} ϕ{\\left(t \\right)} + \\sin{\\left(ϕ{\\left(t \\right)} \\right)} \\cos{\\left(θ{\\left(t \\right)} \\right)} \\frac{d}{d t} θ{\\left(t \\right)}\\\\\\sin{\\left(θ{\\left(t \\right)} \\right)} \\frac{d}{d t} θ{\\left(t \\right)}\\end{matrix}\\right]$"
      ],
      "text/plain": [
       "Matrix([\n",
       "[-sin(θ(t))*sin(ϕ(t))*Derivative(ϕ(t), t) + cos(θ(t))*cos(ϕ(t))*Derivative(θ(t), t)],\n",
       "[ sin(θ(t))*cos(ϕ(t))*Derivative(ϕ(t), t) + sin(ϕ(t))*cos(θ(t))*Derivative(θ(t), t)],\n",
       "[                                                     sin(θ(t))*Derivative(θ(t), t)]])"
      ]
     },
     "execution_count": 107,
     "metadata": {},
     "output_type": "execute_result"
    }
   ],
   "source": [
    "a.subs(b, θ_hat)"
   ]
  },
  {
   "cell_type": "code",
   "execution_count": null,
   "metadata": {},
   "outputs": [
    {
     "data": {
      "text/latex": [
       "$\\displaystyle \\left(- \\sin{\\left(θ{\\left(t \\right)} \\right)} \\sin{\\left(ϕ{\\left(t \\right)} \\right)} \\frac{d}{d t} ϕ{\\left(t \\right)} + \\cos{\\left(θ{\\left(t \\right)} \\right)} \\cos{\\left(ϕ{\\left(t \\right)} \\right)} \\frac{d}{d t} θ{\\left(t \\right)}\\right)\\mathbf{\\hat{i}_{C}} + \\left(\\sin{\\left(θ{\\left(t \\right)} \\right)} \\cos{\\left(ϕ{\\left(t \\right)} \\right)} \\frac{d}{d t} ϕ{\\left(t \\right)} + \\sin{\\left(ϕ{\\left(t \\right)} \\right)} \\cos{\\left(θ{\\left(t \\right)} \\right)} \\frac{d}{d t} θ{\\left(t \\right)}\\right)\\mathbf{\\hat{j}_{C}} + \\left(\\sin{\\left(θ{\\left(t \\right)} \\right)} \\frac{d}{d t} θ{\\left(t \\right)}\\right)\\mathbf{\\hat{k}_{C}}$"
      ],
      "text/plain": [
       "(-sin(θ(t))*sin(ϕ(t))*Derivative(ϕ(t), t) + cos(θ(t))*cos(ϕ(t))*Derivative(θ(t), t))*C.i + (sin(θ(t))*cos(ϕ(t))*Derivative(ϕ(t), t) + sin(ϕ(t))*cos(θ(t))*Derivative(θ(t), t))*C.j + (sin(θ(t))*Derivative(θ(t), t))*C.k"
      ]
     },
     "execution_count": 97,
     "metadata": {},
     "output_type": "execute_result"
    }
   ],
   "source": [
    "diff(θ, t)*hat[θ] + diff(ϕ, t)*sin(θ)*hat[ϕ]"
   ]
  },
  {
   "cell_type": "code",
   "execution_count": null,
   "metadata": {},
   "outputs": [
    {
     "data": {
      "text/latex": [
       "$\\displaystyle \\left(- r{\\left(t \\right)} \\sin{\\left(θ{\\left(t \\right)} \\right)} \\sin{\\left(ϕ{\\left(t \\right)} \\right)} \\frac{d^{2}}{d t^{2}} ϕ{\\left(t \\right)} - r{\\left(t \\right)} \\sin{\\left(θ{\\left(t \\right)} \\right)} \\cos{\\left(ϕ{\\left(t \\right)} \\right)} \\left(\\frac{d}{d t} θ{\\left(t \\right)}\\right)^{2} - r{\\left(t \\right)} \\sin{\\left(θ{\\left(t \\right)} \\right)} \\cos{\\left(ϕ{\\left(t \\right)} \\right)} \\left(\\frac{d}{d t} ϕ{\\left(t \\right)}\\right)^{2} - 2 r{\\left(t \\right)} \\sin{\\left(ϕ{\\left(t \\right)} \\right)} \\cos{\\left(θ{\\left(t \\right)} \\right)} \\frac{d}{d t} θ{\\left(t \\right)} \\frac{d}{d t} ϕ{\\left(t \\right)} + r{\\left(t \\right)} \\cos{\\left(θ{\\left(t \\right)} \\right)} \\cos{\\left(ϕ{\\left(t \\right)} \\right)} \\frac{d^{2}}{d t^{2}} θ{\\left(t \\right)} - 2 \\sin{\\left(θ{\\left(t \\right)} \\right)} \\sin{\\left(ϕ{\\left(t \\right)} \\right)} \\frac{d}{d t} r{\\left(t \\right)} \\frac{d}{d t} ϕ{\\left(t \\right)} + \\sin{\\left(θ{\\left(t \\right)} \\right)} \\cos{\\left(ϕ{\\left(t \\right)} \\right)} \\frac{d^{2}}{d t^{2}} r{\\left(t \\right)} + 2 \\cos{\\left(θ{\\left(t \\right)} \\right)} \\cos{\\left(ϕ{\\left(t \\right)} \\right)} \\frac{d}{d t} r{\\left(t \\right)} \\frac{d}{d t} θ{\\left(t \\right)}\\right)\\mathbf{\\hat{i}_{C}} + \\left(- r{\\left(t \\right)} \\sin{\\left(θ{\\left(t \\right)} \\right)} \\sin{\\left(ϕ{\\left(t \\right)} \\right)} \\left(\\frac{d}{d t} θ{\\left(t \\right)}\\right)^{2} - r{\\left(t \\right)} \\sin{\\left(θ{\\left(t \\right)} \\right)} \\sin{\\left(ϕ{\\left(t \\right)} \\right)} \\left(\\frac{d}{d t} ϕ{\\left(t \\right)}\\right)^{2} + r{\\left(t \\right)} \\sin{\\left(θ{\\left(t \\right)} \\right)} \\cos{\\left(ϕ{\\left(t \\right)} \\right)} \\frac{d^{2}}{d t^{2}} ϕ{\\left(t \\right)} + r{\\left(t \\right)} \\sin{\\left(ϕ{\\left(t \\right)} \\right)} \\cos{\\left(θ{\\left(t \\right)} \\right)} \\frac{d^{2}}{d t^{2}} θ{\\left(t \\right)} + 2 r{\\left(t \\right)} \\cos{\\left(θ{\\left(t \\right)} \\right)} \\cos{\\left(ϕ{\\left(t \\right)} \\right)} \\frac{d}{d t} θ{\\left(t \\right)} \\frac{d}{d t} ϕ{\\left(t \\right)} + \\sin{\\left(θ{\\left(t \\right)} \\right)} \\sin{\\left(ϕ{\\left(t \\right)} \\right)} \\frac{d^{2}}{d t^{2}} r{\\left(t \\right)} + 2 \\sin{\\left(θ{\\left(t \\right)} \\right)} \\cos{\\left(ϕ{\\left(t \\right)} \\right)} \\frac{d}{d t} r{\\left(t \\right)} \\frac{d}{d t} ϕ{\\left(t \\right)} + 2 \\sin{\\left(ϕ{\\left(t \\right)} \\right)} \\cos{\\left(θ{\\left(t \\right)} \\right)} \\frac{d}{d t} r{\\left(t \\right)} \\frac{d}{d t} θ{\\left(t \\right)}\\right)\\mathbf{\\hat{j}_{C}} + \\left(r{\\left(t \\right)} \\sin{\\left(θ{\\left(t \\right)} \\right)} \\frac{d^{2}}{d t^{2}} θ{\\left(t \\right)} + r{\\left(t \\right)} \\cos{\\left(θ{\\left(t \\right)} \\right)} \\left(\\frac{d}{d t} θ{\\left(t \\right)}\\right)^{2} + 2 \\sin{\\left(θ{\\left(t \\right)} \\right)} \\frac{d}{d t} r{\\left(t \\right)} \\frac{d}{d t} θ{\\left(t \\right)} - \\cos{\\left(θ{\\left(t \\right)} \\right)} \\frac{d^{2}}{d t^{2}} r{\\left(t \\right)}\\right)\\mathbf{\\hat{k}_{C}}$"
      ],
      "text/plain": [
       "(-r(t)*sin(θ(t))*sin(ϕ(t))*Derivative(ϕ(t), (t, 2)) - r(t)*sin(θ(t))*cos(ϕ(t))*Derivative(θ(t), t)**2 - r(t)*sin(θ(t))*cos(ϕ(t))*Derivative(ϕ(t), t)**2 - 2*r(t)*sin(ϕ(t))*cos(θ(t))*Derivative(θ(t), t)*Derivative(ϕ(t), t) + r(t)*cos(θ(t))*cos(ϕ(t))*Derivative(θ(t), (t, 2)) - 2*sin(θ(t))*sin(ϕ(t))*Derivative(r(t), t)*Derivative(ϕ(t), t) + sin(θ(t))*cos(ϕ(t))*Derivative(r(t), (t, 2)) + 2*cos(θ(t))*cos(ϕ(t))*Derivative(r(t), t)*Derivative(θ(t), t))*C.i + (-r(t)*sin(θ(t))*sin(ϕ(t))*Derivative(θ(t), t)**2 - r(t)*sin(θ(t))*sin(ϕ(t))*Derivative(ϕ(t), t)**2 + r(t)*sin(θ(t))*cos(ϕ(t))*Derivative(ϕ(t), (t, 2)) + r(t)*sin(ϕ(t))*cos(θ(t))*Derivative(θ(t), (t, 2)) + 2*r(t)*cos(θ(t))*cos(ϕ(t))*Derivative(θ(t), t)*Derivative(ϕ(t), t) + sin(θ(t))*sin(ϕ(t))*Derivative(r(t), (t, 2)) + 2*sin(θ(t))*cos(ϕ(t))*Derivative(r(t), t)*Derivative(ϕ(t), t) + 2*sin(ϕ(t))*cos(θ(t))*Derivative(r(t), t)*Derivative(θ(t), t))*C.j + (r(t)*sin(θ(t))*Derivative(θ(t), (t, 2)) + r(t)*cos(θ(t))*Derivative(θ(t), t)**2 + 2*sin(θ(t))*Derivative(r(t), t)*Derivative(θ(t), t) - cos(θ(t))*Derivative(r(t), (t, 2)))*C.k"
      ]
     },
     "execution_count": 96,
     "metadata": {},
     "output_type": "execute_result"
    }
   ],
   "source": [
    "diff(diff(r*hat[r], t),t)"
   ]
  },
  {
   "cell_type": "markdown",
   "metadata": {},
   "source": [
    "### Generalising this now"
   ]
  },
  {
   "cell_type": "markdown",
   "metadata": {},
   "source": [
    "#### position vector"
   ]
  },
  {
   "cell_type": "code",
   "execution_count": 18,
   "metadata": {},
   "outputs": [],
   "source": [
    "# from sympy import symbols\n",
    "from sympy.vector import CoordSys3D, VectorAdd\n",
    "from sympy import sin, cos\n",
    "\n",
    "import sympy as sp\n",
    "\n",
    "r, θ, φ = sp.symbols('r θ φ')\n",
    "old_symbols = (r, θ, φ)\n",
    "position_vector = ((r*sin(θ)*cos(φ)), (r*sin(θ)*sin(φ)), (-r*cos(θ)))\n",
    "given_lame = {}\n",
    "# given_lame = {\n",
    "#     r: 1,\n",
    "#     θ: r,\n",
    "#     ϕ: r*sin(θ)\n",
    "# }\n",
    "\n",
    "# assumptions = {\n",
    "#     r: 'non-negative',\n",
    "#     sp.sqrt(sin(θ)**2): sin(θ)\n",
    "# }\n",
    "\n",
    "C = CoordSys3D('C')  # standard Cartesian system\n",
    "t = sp.symbols('t')\n",
    "\n",
    "# make sure our symbols become (undefined) functions of t\n",
    "def func_of_t(*args, **kwargs):\n",
    "    return sp.Function(*args, **kwargs)(t)\n",
    "U = sp.symbols(' '.join(s.name for s in old_symbols), cls=func_of_t)\n",
    "symbol_substitution = list(zip(old_symbols, U))\n",
    "\n",
    "r_: VectorAdd = position_vector[0]*C.i + position_vector[1]*C.j + position_vector[2]*C.k\n",
    "r_ = r_.subs(symbol_substitution)"
   ]
  },
  {
   "cell_type": "markdown",
   "metadata": {},
   "source": [
    "define lamé coeffs and r_hat, theta_hat etc."
   ]
  },
  {
   "cell_type": "code",
   "execution_count": 19,
   "metadata": {},
   "outputs": [],
   "source": [
    "# norm = lambda v: sqrt(v.dot(v))\n",
    "\n",
    "# lame = {\n",
    "#     r: 1,\n",
    "#     θ: r,\n",
    "#     ϕ: r*sin(θ)\n",
    "# }\n",
    "\n",
    "#### old version\n",
    "# norm = lambda v: sp.sqrt(v.dot(v))\n",
    "# for a in u:\n",
    "#     lame[a] = sp.simplify(norm(sp.Derivative(r_, a).doit()))  # need to set assumption that r > 0 somehow!\n",
    "#     hat[a] = sp.Derivative(r_, a).doit()/lame[a]\n",
    "\n",
    "#### thought this would be cute as a method of calculating based on assumptions rather than lame but nah. uglier.\n",
    "# assumption_subs = []\n",
    "# for value, assumption in assumptions.items():\n",
    "#     new = None\n",
    "#     if isinstance(assumption, sp.Expr):\n",
    "#         new = assumption\n",
    "#         old = value\n",
    "#     elif isinstance(assumption, str):\n",
    "#         if assumption == 'non-negative':\n",
    "#             new = value\n",
    "#             old = sp.sqrt(new**2)\n",
    "#         else:\n",
    "#             raise NotImplementedError(f'cannot resolve assumption {assumption}')\n",
    "#     else:\n",
    "#         raise ValueError(f'invalid assumption {assumption}')\n",
    "#     assumption_subs.append((old.subs(symbol_substitution), new.subs(symbol_substitution)))\n",
    "# # doesn't quite work - see hat[φ]\n",
    "# hat = {\n",
    "#     u: sp.simplify(sp.simplify(sp.Derivative(r_, u).doit().normalize()).subs(assumption_subs, simultaneous=True))\n",
    "#     for u in U\n",
    "# }\n",
    "\n",
    "# calculate Lamé coefficients - not perfect\n",
    "# norm = lambda v: sp.sqrt(v.dot(v))\n",
    "# calculate_lame = lambda u: norm(sp.Derivative(r_, u).doit())\n",
    "# lame = {u: sp.simplify(given_lame.get(old_u, calculate_lame(u))).subs(symbol_substitution) for u, old_u in symbol_substitution}\n",
    "\n",
    "lame = {}\n",
    "norm = lambda v: sp.sqrt(v.dot(v))\n",
    "calculate_lame = lambda u: sp.simplify(norm(sp.diff(r_, u)))\n",
    "for old_u, u in symbol_substitution:\n",
    "    given_lame_u = given_lame.get(old_u)\n",
    "    if given_lame_u:\n",
    "        lame[u] = sp.simplify(given_lame_u).subs(symbol_substitution)\n",
    "    else:\n",
    "        lame[u] = calculate_lame(u)\n",
    "\n",
    "# derivatives of position vectors wrt time\n",
    "# we COULD use .normal() here but this has UGLY lames gr\n",
    "unit_vectors_map = {u: sp.Derivative(r_, u).doit()/lame[u] for u in U}"
   ]
  },
  {
   "cell_type": "markdown",
   "metadata": {},
   "source": [
    "#### acceleration - V1"
   ]
  },
  {
   "cell_type": "code",
   "execution_count": 20,
   "metadata": {},
   "outputs": [],
   "source": [
    "unit_vector_symbol = lambda s: '\\\\underline{\\hat{'+s.name+'}}'\n",
    "U_HAT = [sp.symbols(unit_vector_symbol(u), cls=func_of_t) for u in U]\n",
    "# in THIS system:\n",
    "a = sp.diff(sp.diff(U[0]*unit_vectors_map[U[0]], t))\n",
    "\n",
    "a_in_direction = lambda i: a.dot(unit_vectors_map[U[i]])*U_HAT[i]\n",
    "\n",
    "# not QUITE sure why I did this bit tbh...\n",
    "expr = a_in_direction(0) + a_in_direction(1) + a_in_direction(2)\n",
    "acceleration = {U[U_HAT.index(u_hat)]: sp.simplify(term) for u_hat, term in sp.collect(expr, syms=U_HAT, evaluate=False).items()}"
   ]
  },
  {
   "cell_type": "code",
   "execution_count": 21,
   "metadata": {},
   "outputs": [
    {
     "data": {
      "text/latex": [
       "$\\displaystyle - r{\\left(t \\right)} \\sin^{2}{\\left(θ{\\left(t \\right)} \\right)} \\left(\\frac{d}{d t} φ{\\left(t \\right)}\\right)^{2} - r{\\left(t \\right)} \\left(\\frac{d}{d t} θ{\\left(t \\right)}\\right)^{2} + \\frac{d^{2}}{d t^{2}} r{\\left(t \\right)}$"
      ],
      "text/plain": [
       "-r(t)*sin(θ(t))**2*Derivative(φ(t), t)**2 - r(t)*Derivative(θ(t), t)**2 + Derivative(r(t), (t, 2))"
      ]
     },
     "execution_count": 21,
     "metadata": {},
     "output_type": "execute_result"
    }
   ],
   "source": [
    "acceleration[U[0]]"
   ]
  },
  {
   "cell_type": "code",
   "execution_count": 22,
   "metadata": {},
   "outputs": [
    {
     "data": {
      "text/latex": [
       "$\\displaystyle \\left(- r{\\left(t \\right)} \\sin^{2}{\\left(θ{\\left(t \\right)} \\right)} \\left(\\frac{d}{d t} φ{\\left(t \\right)}\\right)^{2} - r{\\left(t \\right)} \\left(\\frac{d}{d t} θ{\\left(t \\right)}\\right)^{2} + \\frac{d^{2}}{d t^{2}} r{\\left(t \\right)}\\right) \\underline{\\hat{r}}{\\left(t \\right)}$"
      ],
      "text/plain": [
       "(-r(t)*sin(θ(t))**2*Derivative(φ(t), t)**2 - r(t)*Derivative(θ(t), t)**2 + Derivative(r(t), (t, 2)))*\\underline{\\hat{r}}(t)"
      ]
     },
     "execution_count": 22,
     "metadata": {},
     "output_type": "execute_result"
    }
   ],
   "source": [
    "sp.simplify(a_in_direction(0))"
   ]
  },
  {
   "cell_type": "code",
   "execution_count": 23,
   "metadata": {},
   "outputs": [
    {
     "data": {
      "text/latex": [
       "$\\displaystyle \\frac{\\left(- \\frac{r{\\left(t \\right)} \\sin{\\left(2 θ{\\left(t \\right)} \\right)} \\left(\\frac{d}{d t} φ{\\left(t \\right)}\\right)^{2}}{2} + r{\\left(t \\right)} \\frac{d^{2}}{d t^{2}} θ{\\left(t \\right)} + 2 \\frac{d}{d t} r{\\left(t \\right)} \\frac{d}{d t} θ{\\left(t \\right)}\\right) r{\\left(t \\right)}}{\\sqrt{r^{2}{\\left(t \\right)}}}$"
      ],
      "text/plain": [
       "(-r(t)*sin(2*θ(t))*Derivative(φ(t), t)**2/2 + r(t)*Derivative(θ(t), (t, 2)) + 2*Derivative(r(t), t)*Derivative(θ(t), t))*r(t)/sqrt(r(t)**2)"
      ]
     },
     "execution_count": 23,
     "metadata": {},
     "output_type": "execute_result"
    }
   ],
   "source": [
    "acceleration[U[1]]"
   ]
  },
  {
   "cell_type": "code",
   "execution_count": 24,
   "metadata": {},
   "outputs": [
    {
     "data": {
      "text/latex": [
       "$\\displaystyle \\frac{\\sqrt{2} \\left(r{\\left(t \\right)} \\sin{\\left(2 θ{\\left(t \\right)} \\right)} \\frac{d}{d t} θ{\\left(t \\right)} \\frac{d}{d t} φ{\\left(t \\right)} - \\frac{r{\\left(t \\right)} \\cos{\\left(2 θ{\\left(t \\right)} \\right)} \\frac{d^{2}}{d t^{2}} φ{\\left(t \\right)}}{2} + \\frac{r{\\left(t \\right)} \\frac{d^{2}}{d t^{2}} φ{\\left(t \\right)}}{2} - \\cos{\\left(2 θ{\\left(t \\right)} \\right)} \\frac{d}{d t} r{\\left(t \\right)} \\frac{d}{d t} φ{\\left(t \\right)} + \\frac{d}{d t} r{\\left(t \\right)} \\frac{d}{d t} φ{\\left(t \\right)}\\right) r{\\left(t \\right)}}{\\sqrt{\\left(1 - \\cos{\\left(2 θ{\\left(t \\right)} \\right)}\\right) r^{2}{\\left(t \\right)}}}$"
      ],
      "text/plain": [
       "sqrt(2)*(r(t)*sin(2*θ(t))*Derivative(θ(t), t)*Derivative(φ(t), t) - r(t)*cos(2*θ(t))*Derivative(φ(t), (t, 2))/2 + r(t)*Derivative(φ(t), (t, 2))/2 - cos(2*θ(t))*Derivative(r(t), t)*Derivative(φ(t), t) + Derivative(r(t), t)*Derivative(φ(t), t))*r(t)/sqrt((1 - cos(2*θ(t)))*r(t)**2)"
      ]
     },
     "execution_count": 24,
     "metadata": {},
     "output_type": "execute_result"
    }
   ],
   "source": [
    "acceleration[U[2]]"
   ]
  },
  {
   "cell_type": "code",
   "execution_count": 25,
   "metadata": {},
   "outputs": [
    {
     "data": {
      "text/plain": [
       "{r(t): F + r(t)*sin(θ(t))**2*Derivative(φ(t), t)**2 + r(t)*Derivative(θ(t), t)**2,\n",
       " θ(t): F*sqrt(r(t)**2)/r(t)**2 + sin(2*θ(t))*Derivative(φ(t), t)**2/2 - 2*Derivative(r(t), t)*Derivative(θ(t), t)/r(t),\n",
       " φ(t): F*sqrt(r(t)**2*sin(θ(t))**2)/(r(t)**2*sin(θ(t))**2) - 2*Derivative(θ(t), t)*Derivative(φ(t), t)/tan(θ(t)) - 2*Derivative(r(t), t)*Derivative(φ(t), t)/r(t)}"
      ]
     },
     "execution_count": 25,
     "metadata": {},
     "output_type": "execute_result"
    }
   ],
   "source": [
    "F = sp.symbols('F')\n",
    "# u_acceleration = [sp.solve(sp.Eq(acceleration[u], F), sp.diff(u, t, 2)) for u in U]\n",
    "\n",
    "U_acceleration = {}\n",
    "for u in U:\n",
    "    # get acceleration in terms of u\n",
    "    u_a_solns = sp.solve(sp.Eq(acceleration[u], F), sp.diff(u, t, 2))\n",
    "    if len(u_a_solns) != 1:\n",
    "        raise ValueError(f'could not find acceleration in terms of {u}')\n",
    "    U_acceleration[u] = u_a_solns[0]\n",
    "\n",
    "U_acceleration"
   ]
  },
  {
   "cell_type": "code",
   "execution_count": 26,
   "metadata": {},
   "outputs": [
    {
     "data": {
      "text/plain": [
       "{r(t): F + r(t)*sin(θ(t))**2*Derivative(φ(t), t)**2 + r(t)*Derivative(θ(t), t)**2,\n",
       " θ(t): F*sqrt(r(t)**2)/r(t)**2 + sin(2*θ(t))*Derivative(φ(t), t)**2/2 - 2*Derivative(r(t), t)*Derivative(θ(t), t)/r(t),\n",
       " φ(t): F*sqrt(r(t)**2*sin(θ(t))**2)/(r(t)**2*sin(θ(t))**2) - 2*Derivative(θ(t), t)*Derivative(φ(t), t)/tan(θ(t)) - 2*Derivative(r(t), t)*Derivative(φ(t), t)/r(t)}"
      ]
     },
     "execution_count": 26,
     "metadata": {},
     "output_type": "execute_result"
    }
   ],
   "source": [
    "U_acceleration"
   ]
  },
  {
   "cell_type": "markdown",
   "metadata": {},
   "source": [
    "#### checking this matches my results!"
   ]
  },
  {
   "cell_type": "code",
   "execution_count": 27,
   "metadata": {},
   "outputs": [
    {
     "data": {
      "text/latex": [
       "$\\displaystyle F + r{\\left(t \\right)} \\sin^{2}{\\left(θ{\\left(t \\right)} \\right)} \\left(\\frac{d}{d t} φ{\\left(t \\right)}\\right)^{2} + r{\\left(t \\right)} \\left(\\frac{d}{d t} θ{\\left(t \\right)}\\right)^{2}$"
      ],
      "text/plain": [
       "F + r(t)*sin(θ(t))**2*Derivative(φ(t), t)**2 + r(t)*Derivative(θ(t), t)**2"
      ]
     },
     "metadata": {},
     "output_type": "display_data"
    },
    {
     "data": {
      "text/latex": [
       "$\\displaystyle \\frac{F \\sqrt{r^{2}{\\left(t \\right)}}}{r^{2}{\\left(t \\right)}} + \\frac{\\sin{\\left(2 θ{\\left(t \\right)} \\right)} \\left(\\frac{d}{d t} φ{\\left(t \\right)}\\right)^{2}}{2} - \\frac{2 \\frac{d}{d t} r{\\left(t \\right)} \\frac{d}{d t} θ{\\left(t \\right)}}{r{\\left(t \\right)}}$"
      ],
      "text/plain": [
       "F*sqrt(r(t)**2)/r(t)**2 + sin(2*θ(t))*Derivative(φ(t), t)**2/2 - 2*Derivative(r(t), t)*Derivative(θ(t), t)/r(t)"
      ]
     },
     "metadata": {},
     "output_type": "display_data"
    },
    {
     "data": {
      "text/latex": [
       "$\\displaystyle \\frac{F \\sqrt{r^{2}{\\left(t \\right)} \\sin^{2}{\\left(θ{\\left(t \\right)} \\right)}}}{r^{2}{\\left(t \\right)} \\sin^{2}{\\left(θ{\\left(t \\right)} \\right)}} - \\frac{2 \\frac{d}{d t} θ{\\left(t \\right)} \\frac{d}{d t} φ{\\left(t \\right)}}{\\tan{\\left(θ{\\left(t \\right)} \\right)}} - \\frac{2 \\frac{d}{d t} r{\\left(t \\right)} \\frac{d}{d t} φ{\\left(t \\right)}}{r{\\left(t \\right)}}$"
      ],
      "text/plain": [
       "F*sqrt(r(t)**2*sin(θ(t))**2)/(r(t)**2*sin(θ(t))**2) - 2*Derivative(θ(t), t)*Derivative(φ(t), t)/tan(θ(t)) - 2*Derivative(r(t), t)*Derivative(φ(t), t)/r(t)"
      ]
     },
     "metadata": {},
     "output_type": "display_data"
    }
   ],
   "source": [
    "for u, u_a in U_acceleration.items():\n",
    "    display(u_a)"
   ]
  },
  {
   "cell_type": "code",
   "execution_count": 28,
   "metadata": {},
   "outputs": [
    {
     "data": {
      "text/latex": [
       "$\\displaystyle F + L \\sin^{2}{\\left(θ{\\left(t \\right)} \\right)} \\left(\\frac{d}{d t} φ{\\left(t \\right)}\\right)^{2} + L \\left(\\frac{d}{d t} θ{\\left(t \\right)}\\right)^{2}$"
      ],
      "text/plain": [
       "F + L*sin(θ(t))**2*Derivative(φ(t), t)**2 + L*Derivative(θ(t), t)**2"
      ]
     },
     "metadata": {},
     "output_type": "display_data"
    },
    {
     "data": {
      "text/latex": [
       "$\\displaystyle \\frac{F + \\frac{L \\sin{\\left(2 θ{\\left(t \\right)} \\right)} \\left(\\frac{d}{d t} φ{\\left(t \\right)}\\right)^{2}}{2}}{L}$"
      ],
      "text/plain": [
       "(F + L*sin(2*θ(t))*Derivative(φ(t), t)**2/2)/L"
      ]
     },
     "metadata": {},
     "output_type": "display_data"
    },
    {
     "data": {
      "text/latex": [
       "$\\displaystyle \\frac{\\frac{F \\sqrt{\\sin^{2}{\\left(θ{\\left(t \\right)} \\right)}}}{\\sin^{2}{\\left(θ{\\left(t \\right)} \\right)}} - \\frac{2 L \\frac{d}{d t} θ{\\left(t \\right)} \\frac{d}{d t} φ{\\left(t \\right)}}{\\tan{\\left(θ{\\left(t \\right)} \\right)}}}{L}$"
      ],
      "text/plain": [
       "(F*sqrt(sin(θ(t))**2)/sin(θ(t))**2 - 2*L*Derivative(θ(t), t)*Derivative(φ(t), t)/tan(θ(t)))/L"
      ]
     },
     "metadata": {},
     "output_type": "display_data"
    }
   ],
   "source": [
    "## and for constant r=L :)\n",
    "\n",
    "sub_r_const = [\n",
    "    (U[0], sp.symbols('L', nonnegative=True))\n",
    "]\n",
    "\n",
    "for u, u_a in U_acceleration.items():\n",
    "    display(sp.simplify(u_a.subs(sub_r_const)))"
   ]
  },
  {
   "cell_type": "markdown",
   "metadata": {},
   "source": [
    "#### acceleration - V2"
   ]
  },
  {
   "cell_type": "code",
   "execution_count": 29,
   "metadata": {},
   "outputs": [],
   "source": [
    "# in THIS system:\n",
    "a = sp.diff(sp.diff(U[0]*unit_vectors_map[U[0]], t))\n",
    "\n",
    "a_in_direction = lambda u: a.dot(unit_vectors_map[u])"
   ]
  },
  {
   "cell_type": "code",
   "execution_count": 30,
   "metadata": {},
   "outputs": [
    {
     "data": {
      "text/plain": [
       "{r(t): F + r(t)*sin(θ(t))**2*Derivative(φ(t), t)**2 + r(t)*Derivative(θ(t), t)**2,\n",
       " θ(t): F*sqrt(r(t)**2)/r(t)**2 + sin(2*θ(t))*Derivative(φ(t), t)**2/2 - 2*Derivative(r(t), t)*Derivative(θ(t), t)/r(t),\n",
       " φ(t): F*sqrt(r(t)**2*sin(θ(t))**2)/(r(t)**2*sin(θ(t))**2) - 2*Derivative(θ(t), t)*Derivative(φ(t), t)/tan(θ(t)) - 2*Derivative(r(t), t)*Derivative(φ(t), t)/r(t)}"
      ]
     },
     "execution_count": 30,
     "metadata": {},
     "output_type": "execute_result"
    }
   ],
   "source": [
    "F = sp.symbols('F')\n",
    "# u_acceleration = [sp.solve(sp.Eq(acceleration[u], F), sp.diff(u, t, 2)) for u in U]\n",
    "\n",
    "U_accelerationV2 = {}\n",
    "for u in U:\n",
    "    # get acceleration in terms of u\n",
    "    u_a_solns = sp.solve(sp.Eq(a_in_direction(u), F), sp.diff(u, t, 2))\n",
    "    if len(u_a_solns) != 1:\n",
    "        raise ValueError(f'could not find acceleration in direction of {u} in terms of {sp.diff(u, t, 2)}')\n",
    "    U_accelerationV2[u] = u_a_solns[0]\n",
    "\n",
    "U_accelerationV2"
   ]
  },
  {
   "cell_type": "markdown",
   "metadata": {},
   "source": [
    "#### same as in V1?"
   ]
  },
  {
   "cell_type": "code",
   "execution_count": 31,
   "metadata": {},
   "outputs": [
    {
     "data": {
      "text/plain": [
       "True"
      ]
     },
     "execution_count": 31,
     "metadata": {},
     "output_type": "execute_result"
    }
   ],
   "source": [
    "U_accelerationV2 == U_acceleration"
   ]
  }
 ],
 "metadata": {
  "kernelspec": {
   "display_name": "standard",
   "language": "python",
   "name": "python3"
  },
  "language_info": {
   "codemirror_mode": {
    "name": "ipython",
    "version": 3
   },
   "file_extension": ".py",
   "mimetype": "text/x-python",
   "name": "python",
   "nbconvert_exporter": "python",
   "pygments_lexer": "ipython3",
   "version": "3.11.5"
  }
 },
 "nbformat": 4,
 "nbformat_minor": 2
}
