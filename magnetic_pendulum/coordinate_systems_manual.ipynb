{
 "cells": [
  {
   "cell_type": "markdown",
   "metadata": {},
   "source": [
    "## Thinking: how do I change to include stuff like position vectors"
   ]
  },
  {
   "cell_type": "code",
   "execution_count": 158,
   "metadata": {},
   "outputs": [
    {
     "data": {
      "text/latex": [
       "$\\displaystyle \\left(r{\\left(t \\right)} \\sin{\\left(θ{\\left(t \\right)} \\right)} \\cos{\\left(ϕ{\\left(t \\right)} \\right)}\\right)\\mathbf{\\hat{i}_{C}} + \\left(r{\\left(t \\right)} \\sin{\\left(θ{\\left(t \\right)} \\right)} \\sin{\\left(ϕ{\\left(t \\right)} \\right)}\\right)\\mathbf{\\hat{j}_{C}} + \\left(- r{\\left(t \\right)} \\cos{\\left(θ{\\left(t \\right)} \\right)}\\right)\\mathbf{\\hat{k}_{C}}$"
      ],
      "text/plain": [
       "(r(t)*sin(θ(t))*cos(ϕ(t)))*C.i + (r(t)*sin(θ(t))*sin(ϕ(t)))*C.j + (-r(t)*cos(θ(t)))*C.k"
      ]
     },
     "execution_count": 158,
     "metadata": {},
     "output_type": "execute_result"
    }
   ],
   "source": [
    "from sympy import symbols\n",
    "from sympy.vector import CoordSys3D, express\n",
    "from sympy import sin, cos, Derivative, diff, sqrt, Function, simplify, collect\n",
    "\n",
    "C = CoordSys3D('C')  # standard Cartesian system\n",
    "t = symbols('t')\n",
    "def func_of_t(*args, **kwargs):\n",
    "    return Function(*args, **kwargs)(t)\n",
    "# func_of_t = lambda s : Function(s)(t)\n",
    "# r, θ, ϕ = symbols('r θ ϕ', cls=func_of_t)\n",
    "θ, ϕ = symbols('θ ϕ', cls=func_of_t)\n",
    "r= symbols('r', cls=func_of_t)\n",
    "\n",
    "\n",
    "r_ = (r*sin(θ)*cos(φ))*C.i + (r*sin(θ)*sin(φ))*C.j + (-r*cos(θ))*C.k\n",
    "\n",
    "# r, θ, ϕ\n",
    "r_"
   ]
  },
  {
   "cell_type": "code",
   "execution_count": 139,
   "metadata": {},
   "outputs": [],
   "source": [
    "# norm = lambda v: sqrt(v.dot(v))\n",
    "\n",
    "lame = {\n",
    "    r: 1,\n",
    "    θ: r,\n",
    "    ϕ: r*sin(θ)\n",
    "}\n",
    "\n",
    "position = [r, θ, ϕ]\n",
    "hat = {}\n",
    "# lame = {}\n",
    "norm = lambda v: sqrt(v.dot(v))\n",
    "getsym = lambda a: '\\\\underline{\\hat{' + a + '}}'\n",
    "r_hat, θ_hat, ϕ_hat = symbols(' '.join([getsym('r'),getsym('θ'),getsym('ϕ')]), cls=func_of_t)\n",
    "\n",
    "for a in position:\n",
    "    # lame[a] = simplify(norm(Derivative(r_, a).doit()))  # need to set assumption that r > 0 somehow!\n",
    "    hat[a] = Derivative(r_, a).doit()/lame[a]\n"
   ]
  },
  {
   "cell_type": "code",
   "execution_count": 155,
   "metadata": {},
   "outputs": [
    {
     "data": {
      "text/latex": [
       "$\\displaystyle \\left(\\sin{\\left(θ{\\left(t \\right)} \\right)} \\cos{\\left(ϕ{\\left(t \\right)} \\right)}\\right)\\mathbf{\\hat{i}_{C}} + \\left(\\sin{\\left(θ{\\left(t \\right)} \\right)} \\sin{\\left(ϕ{\\left(t \\right)} \\right)}\\right)\\mathbf{\\hat{j}_{C}} + \\left(- \\cos{\\left(θ{\\left(t \\right)} \\right)}\\right)\\mathbf{\\hat{k}_{C}}$"
      ],
      "text/plain": [
       "(sin(θ(t))*cos(ϕ(t)))*C.i + (sin(θ(t))*sin(ϕ(t)))*C.j + (-cos(θ(t)))*C.k"
      ]
     },
     "execution_count": 155,
     "metadata": {},
     "output_type": "execute_result"
    }
   ],
   "source": [
    "hat[r]"
   ]
  },
  {
   "cell_type": "code",
   "execution_count": 144,
   "metadata": {},
   "outputs": [],
   "source": []
  },
  {
   "cell_type": "code",
   "execution_count": 161,
   "metadata": {},
   "outputs": [
    {
     "data": {
      "text/latex": [
       "$\\displaystyle \\frac{\\underline{\\hat{r}}{\\left(t \\right)} r{\\left(t \\right)} \\cos{\\left(2 θ{\\left(t \\right)} \\right)} \\left(\\frac{d}{d t} ϕ{\\left(t \\right)}\\right)^{2}}{2} - \\underline{\\hat{r}}{\\left(t \\right)} r{\\left(t \\right)} \\left(\\frac{d}{d t} θ{\\left(t \\right)}\\right)^{2} - \\frac{\\underline{\\hat{r}}{\\left(t \\right)} r{\\left(t \\right)} \\left(\\frac{d}{d t} ϕ{\\left(t \\right)}\\right)^{2}}{2} + \\underline{\\hat{r}}{\\left(t \\right)} \\frac{d^{2}}{d t^{2}} r{\\left(t \\right)} - \\frac{\\underline{\\hat{θ}}{\\left(t \\right)} r{\\left(t \\right)} \\sin{\\left(2 θ{\\left(t \\right)} \\right)} \\left(\\frac{d}{d t} ϕ{\\left(t \\right)}\\right)^{2}}{2} + \\underline{\\hat{θ}}{\\left(t \\right)} r{\\left(t \\right)} \\frac{d^{2}}{d t^{2}} θ{\\left(t \\right)} + 2 \\underline{\\hat{θ}}{\\left(t \\right)} \\frac{d}{d t} r{\\left(t \\right)} \\frac{d}{d t} θ{\\left(t \\right)} + \\underline{\\hat{ϕ}}{\\left(t \\right)} r{\\left(t \\right)} \\sin{\\left(θ{\\left(t \\right)} \\right)} \\frac{d^{2}}{d t^{2}} ϕ{\\left(t \\right)} + 2 \\underline{\\hat{ϕ}}{\\left(t \\right)} r{\\left(t \\right)} \\cos{\\left(θ{\\left(t \\right)} \\right)} \\frac{d}{d t} θ{\\left(t \\right)} \\frac{d}{d t} ϕ{\\left(t \\right)} + 2 \\underline{\\hat{ϕ}}{\\left(t \\right)} \\sin{\\left(θ{\\left(t \\right)} \\right)} \\frac{d}{d t} r{\\left(t \\right)} \\frac{d}{d t} ϕ{\\left(t \\right)}$"
      ],
      "text/plain": [
       "\\underline{\\hat{r}}(t)*r(t)*cos(2*θ(t))*Derivative(ϕ(t), t)**2/2 - \\underline{\\hat{r}}(t)*r(t)*Derivative(θ(t), t)**2 - \\underline{\\hat{r}}(t)*r(t)*Derivative(ϕ(t), t)**2/2 + \\underline{\\hat{r}}(t)*Derivative(r(t), (t, 2)) - \\underline{\\hat{θ}}(t)*r(t)*sin(2*θ(t))*Derivative(ϕ(t), t)**2/2 + \\underline{\\hat{θ}}(t)*r(t)*Derivative(θ(t), (t, 2)) + 2*\\underline{\\hat{θ}}(t)*Derivative(r(t), t)*Derivative(θ(t), t) + \\underline{\\hat{ϕ}}(t)*r(t)*sin(θ(t))*Derivative(ϕ(t), (t, 2)) + 2*\\underline{\\hat{ϕ}}(t)*r(t)*cos(θ(t))*Derivative(θ(t), t)*Derivative(ϕ(t), t) + 2*\\underline{\\hat{ϕ}}(t)*sin(θ(t))*Derivative(r(t), t)*Derivative(ϕ(t), t)"
      ]
     },
     "execution_count": 161,
     "metadata": {},
     "output_type": "execute_result"
    }
   ],
   "source": [
    "a = diff(diff(r*hat[r], t))\n",
    "expr = simplify(a.dot(hat[θ])*θ_hat + a.dot(hat[ϕ])*ϕ_hat + a.dot(hat[r])*r_hat)\n",
    "expr"
   ]
  },
  {
   "cell_type": "code",
   "execution_count": 169,
   "metadata": {},
   "outputs": [
    {
     "data": {
      "text/latex": [
       "$\\displaystyle - r{\\left(t \\right)} \\sin^{2}{\\left(θ{\\left(t \\right)} \\right)} \\left(\\frac{d}{d t} ϕ{\\left(t \\right)}\\right)^{2} - r{\\left(t \\right)} \\left(\\frac{d}{d t} θ{\\left(t \\right)}\\right)^{2} + \\frac{d^{2}}{d t^{2}} r{\\left(t \\right)}$"
      ],
      "text/plain": [
       "-r(t)*sin(θ(t))**2*Derivative(ϕ(t), t)**2 - r(t)*Derivative(θ(t), t)**2 + Derivative(r(t), (t, 2))"
      ]
     },
     "execution_count": 169,
     "metadata": {},
     "output_type": "execute_result"
    }
   ],
   "source": [
    "simplify(collect(expr, syms=[r_hat, θ_hat, ϕ_hat], evaluate=False)[r_hat])\n",
    "### YES>???!!! YES!!!?????!!!!!! :>>>>>>"
   ]
  },
  {
   "cell_type": "code",
   "execution_count": 133,
   "metadata": {},
   "outputs": [
    {
     "data": {
      "text/plain": [
       "sympy.vector.vector.VectorZero"
      ]
     },
     "execution_count": 133,
     "metadata": {},
     "output_type": "execute_result"
    }
   ],
   "source": [
    "z = simplify(a.dot(hat[r])*r_hat)\n",
    "type(z)"
   ]
  },
  {
   "cell_type": "code",
   "execution_count": 124,
   "metadata": {},
   "outputs": [
    {
     "data": {
      "text/latex": [
       "$\\displaystyle r{\\left(t \\right)} \\cos{\\left(θ{\\left(t \\right)} \\right)} \\frac{d}{d t} θ{\\left(t \\right)} + \\sin{\\left(θ{\\left(t \\right)} \\right)} \\frac{d}{d t} r{\\left(t \\right)}$"
      ],
      "text/plain": [
       "r(t)*cos(θ(t))*Derivative(θ(t), t) + sin(θ(t))*Derivative(r(t), t)"
      ]
     },
     "execution_count": 124,
     "metadata": {},
     "output_type": "execute_result"
    }
   ],
   "source": [
    "Derivative(lame[ϕ], t).doit()"
   ]
  },
  {
   "cell_type": "code",
   "execution_count": 107,
   "metadata": {},
   "outputs": [
    {
     "data": {
      "text/latex": [
       "$\\displaystyle \\left[\\begin{matrix}- \\sin{\\left(θ{\\left(t \\right)} \\right)} \\sin{\\left(ϕ{\\left(t \\right)} \\right)} \\frac{d}{d t} ϕ{\\left(t \\right)} + \\cos{\\left(θ{\\left(t \\right)} \\right)} \\cos{\\left(ϕ{\\left(t \\right)} \\right)} \\frac{d}{d t} θ{\\left(t \\right)}\\\\\\sin{\\left(θ{\\left(t \\right)} \\right)} \\cos{\\left(ϕ{\\left(t \\right)} \\right)} \\frac{d}{d t} ϕ{\\left(t \\right)} + \\sin{\\left(ϕ{\\left(t \\right)} \\right)} \\cos{\\left(θ{\\left(t \\right)} \\right)} \\frac{d}{d t} θ{\\left(t \\right)}\\\\\\sin{\\left(θ{\\left(t \\right)} \\right)} \\frac{d}{d t} θ{\\left(t \\right)}\\end{matrix}\\right]$"
      ],
      "text/plain": [
       "Matrix([\n",
       "[-sin(θ(t))*sin(ϕ(t))*Derivative(ϕ(t), t) + cos(θ(t))*cos(ϕ(t))*Derivative(θ(t), t)],\n",
       "[ sin(θ(t))*cos(ϕ(t))*Derivative(ϕ(t), t) + sin(ϕ(t))*cos(θ(t))*Derivative(θ(t), t)],\n",
       "[                                                     sin(θ(t))*Derivative(θ(t), t)]])"
      ]
     },
     "execution_count": 107,
     "metadata": {},
     "output_type": "execute_result"
    }
   ],
   "source": [
    "a.subs(b, θ_hat)"
   ]
  },
  {
   "cell_type": "code",
   "execution_count": 97,
   "metadata": {},
   "outputs": [
    {
     "data": {
      "text/latex": [
       "$\\displaystyle \\left(- \\sin{\\left(θ{\\left(t \\right)} \\right)} \\sin{\\left(ϕ{\\left(t \\right)} \\right)} \\frac{d}{d t} ϕ{\\left(t \\right)} + \\cos{\\left(θ{\\left(t \\right)} \\right)} \\cos{\\left(ϕ{\\left(t \\right)} \\right)} \\frac{d}{d t} θ{\\left(t \\right)}\\right)\\mathbf{\\hat{i}_{C}} + \\left(\\sin{\\left(θ{\\left(t \\right)} \\right)} \\cos{\\left(ϕ{\\left(t \\right)} \\right)} \\frac{d}{d t} ϕ{\\left(t \\right)} + \\sin{\\left(ϕ{\\left(t \\right)} \\right)} \\cos{\\left(θ{\\left(t \\right)} \\right)} \\frac{d}{d t} θ{\\left(t \\right)}\\right)\\mathbf{\\hat{j}_{C}} + \\left(\\sin{\\left(θ{\\left(t \\right)} \\right)} \\frac{d}{d t} θ{\\left(t \\right)}\\right)\\mathbf{\\hat{k}_{C}}$"
      ],
      "text/plain": [
       "(-sin(θ(t))*sin(ϕ(t))*Derivative(ϕ(t), t) + cos(θ(t))*cos(ϕ(t))*Derivative(θ(t), t))*C.i + (sin(θ(t))*cos(ϕ(t))*Derivative(ϕ(t), t) + sin(ϕ(t))*cos(θ(t))*Derivative(θ(t), t))*C.j + (sin(θ(t))*Derivative(θ(t), t))*C.k"
      ]
     },
     "execution_count": 97,
     "metadata": {},
     "output_type": "execute_result"
    }
   ],
   "source": [
    "diff(θ, t)*hat[θ] + diff(ϕ, t)*sin(θ)*hat[ϕ]"
   ]
  },
  {
   "cell_type": "code",
   "execution_count": 96,
   "metadata": {},
   "outputs": [
    {
     "data": {
      "text/latex": [
       "$\\displaystyle \\left(- r{\\left(t \\right)} \\sin{\\left(θ{\\left(t \\right)} \\right)} \\sin{\\left(ϕ{\\left(t \\right)} \\right)} \\frac{d^{2}}{d t^{2}} ϕ{\\left(t \\right)} - r{\\left(t \\right)} \\sin{\\left(θ{\\left(t \\right)} \\right)} \\cos{\\left(ϕ{\\left(t \\right)} \\right)} \\left(\\frac{d}{d t} θ{\\left(t \\right)}\\right)^{2} - r{\\left(t \\right)} \\sin{\\left(θ{\\left(t \\right)} \\right)} \\cos{\\left(ϕ{\\left(t \\right)} \\right)} \\left(\\frac{d}{d t} ϕ{\\left(t \\right)}\\right)^{2} - 2 r{\\left(t \\right)} \\sin{\\left(ϕ{\\left(t \\right)} \\right)} \\cos{\\left(θ{\\left(t \\right)} \\right)} \\frac{d}{d t} θ{\\left(t \\right)} \\frac{d}{d t} ϕ{\\left(t \\right)} + r{\\left(t \\right)} \\cos{\\left(θ{\\left(t \\right)} \\right)} \\cos{\\left(ϕ{\\left(t \\right)} \\right)} \\frac{d^{2}}{d t^{2}} θ{\\left(t \\right)} - 2 \\sin{\\left(θ{\\left(t \\right)} \\right)} \\sin{\\left(ϕ{\\left(t \\right)} \\right)} \\frac{d}{d t} r{\\left(t \\right)} \\frac{d}{d t} ϕ{\\left(t \\right)} + \\sin{\\left(θ{\\left(t \\right)} \\right)} \\cos{\\left(ϕ{\\left(t \\right)} \\right)} \\frac{d^{2}}{d t^{2}} r{\\left(t \\right)} + 2 \\cos{\\left(θ{\\left(t \\right)} \\right)} \\cos{\\left(ϕ{\\left(t \\right)} \\right)} \\frac{d}{d t} r{\\left(t \\right)} \\frac{d}{d t} θ{\\left(t \\right)}\\right)\\mathbf{\\hat{i}_{C}} + \\left(- r{\\left(t \\right)} \\sin{\\left(θ{\\left(t \\right)} \\right)} \\sin{\\left(ϕ{\\left(t \\right)} \\right)} \\left(\\frac{d}{d t} θ{\\left(t \\right)}\\right)^{2} - r{\\left(t \\right)} \\sin{\\left(θ{\\left(t \\right)} \\right)} \\sin{\\left(ϕ{\\left(t \\right)} \\right)} \\left(\\frac{d}{d t} ϕ{\\left(t \\right)}\\right)^{2} + r{\\left(t \\right)} \\sin{\\left(θ{\\left(t \\right)} \\right)} \\cos{\\left(ϕ{\\left(t \\right)} \\right)} \\frac{d^{2}}{d t^{2}} ϕ{\\left(t \\right)} + r{\\left(t \\right)} \\sin{\\left(ϕ{\\left(t \\right)} \\right)} \\cos{\\left(θ{\\left(t \\right)} \\right)} \\frac{d^{2}}{d t^{2}} θ{\\left(t \\right)} + 2 r{\\left(t \\right)} \\cos{\\left(θ{\\left(t \\right)} \\right)} \\cos{\\left(ϕ{\\left(t \\right)} \\right)} \\frac{d}{d t} θ{\\left(t \\right)} \\frac{d}{d t} ϕ{\\left(t \\right)} + \\sin{\\left(θ{\\left(t \\right)} \\right)} \\sin{\\left(ϕ{\\left(t \\right)} \\right)} \\frac{d^{2}}{d t^{2}} r{\\left(t \\right)} + 2 \\sin{\\left(θ{\\left(t \\right)} \\right)} \\cos{\\left(ϕ{\\left(t \\right)} \\right)} \\frac{d}{d t} r{\\left(t \\right)} \\frac{d}{d t} ϕ{\\left(t \\right)} + 2 \\sin{\\left(ϕ{\\left(t \\right)} \\right)} \\cos{\\left(θ{\\left(t \\right)} \\right)} \\frac{d}{d t} r{\\left(t \\right)} \\frac{d}{d t} θ{\\left(t \\right)}\\right)\\mathbf{\\hat{j}_{C}} + \\left(r{\\left(t \\right)} \\sin{\\left(θ{\\left(t \\right)} \\right)} \\frac{d^{2}}{d t^{2}} θ{\\left(t \\right)} + r{\\left(t \\right)} \\cos{\\left(θ{\\left(t \\right)} \\right)} \\left(\\frac{d}{d t} θ{\\left(t \\right)}\\right)^{2} + 2 \\sin{\\left(θ{\\left(t \\right)} \\right)} \\frac{d}{d t} r{\\left(t \\right)} \\frac{d}{d t} θ{\\left(t \\right)} - \\cos{\\left(θ{\\left(t \\right)} \\right)} \\frac{d^{2}}{d t^{2}} r{\\left(t \\right)}\\right)\\mathbf{\\hat{k}_{C}}$"
      ],
      "text/plain": [
       "(-r(t)*sin(θ(t))*sin(ϕ(t))*Derivative(ϕ(t), (t, 2)) - r(t)*sin(θ(t))*cos(ϕ(t))*Derivative(θ(t), t)**2 - r(t)*sin(θ(t))*cos(ϕ(t))*Derivative(ϕ(t), t)**2 - 2*r(t)*sin(ϕ(t))*cos(θ(t))*Derivative(θ(t), t)*Derivative(ϕ(t), t) + r(t)*cos(θ(t))*cos(ϕ(t))*Derivative(θ(t), (t, 2)) - 2*sin(θ(t))*sin(ϕ(t))*Derivative(r(t), t)*Derivative(ϕ(t), t) + sin(θ(t))*cos(ϕ(t))*Derivative(r(t), (t, 2)) + 2*cos(θ(t))*cos(ϕ(t))*Derivative(r(t), t)*Derivative(θ(t), t))*C.i + (-r(t)*sin(θ(t))*sin(ϕ(t))*Derivative(θ(t), t)**2 - r(t)*sin(θ(t))*sin(ϕ(t))*Derivative(ϕ(t), t)**2 + r(t)*sin(θ(t))*cos(ϕ(t))*Derivative(ϕ(t), (t, 2)) + r(t)*sin(ϕ(t))*cos(θ(t))*Derivative(θ(t), (t, 2)) + 2*r(t)*cos(θ(t))*cos(ϕ(t))*Derivative(θ(t), t)*Derivative(ϕ(t), t) + sin(θ(t))*sin(ϕ(t))*Derivative(r(t), (t, 2)) + 2*sin(θ(t))*cos(ϕ(t))*Derivative(r(t), t)*Derivative(ϕ(t), t) + 2*sin(ϕ(t))*cos(θ(t))*Derivative(r(t), t)*Derivative(θ(t), t))*C.j + (r(t)*sin(θ(t))*Derivative(θ(t), (t, 2)) + r(t)*cos(θ(t))*Derivative(θ(t), t)**2 + 2*sin(θ(t))*Derivative(r(t), t)*Derivative(θ(t), t) - cos(θ(t))*Derivative(r(t), (t, 2)))*C.k"
      ]
     },
     "execution_count": 96,
     "metadata": {},
     "output_type": "execute_result"
    }
   ],
   "source": [
    "diff(diff(r*hat[r], t),t)"
   ]
  }
 ],
 "metadata": {
  "kernelspec": {
   "display_name": "standard",
   "language": "python",
   "name": "python3"
  },
  "language_info": {
   "codemirror_mode": {
    "name": "ipython",
    "version": 3
   },
   "file_extension": ".py",
   "mimetype": "text/x-python",
   "name": "python",
   "nbconvert_exporter": "python",
   "pygments_lexer": "ipython3",
   "version": "3.11.5"
  }
 },
 "nbformat": 4,
 "nbformat_minor": 2
}
