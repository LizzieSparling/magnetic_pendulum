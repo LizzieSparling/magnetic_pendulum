{
 "cells": [
  {
   "cell_type": "markdown",
   "metadata": {},
   "source": [
    "### Thinking: how do I change to include stuff like position vectors\n"
   ]
  },
  {
   "cell_type": "code",
   "execution_count": 10,
   "metadata": {},
   "outputs": [],
   "source": [
    "from sympy import symbols, diff, Function\n",
    "from sympy.vector import CoordSys3D, express"
   ]
  },
  {
   "cell_type": "markdown",
   "metadata": {},
   "source": [
    "#### Position Vector ?"
   ]
  },
  {
   "cell_type": "code",
   "execution_count": 2,
   "metadata": {},
   "outputs": [],
   "source": [
    "P = CoordSys3D('P', transformation='spherical',\n",
    "                    vector_names=list('rtp'), \n",
    "                    variable_names=list('RTP'))"
   ]
  },
  {
   "cell_type": "code",
   "execution_count": 3,
   "metadata": {},
   "outputs": [],
   "source": [
    "Sys = CoordSys3D('Sys')\n",
    "\n",
    "# Define point O to be Sys’ origin. We can do this without loss of generality\n",
    "O1 = Sys.origin\n",
    "\n",
    "\n",
    "# Define point A with respect to O\n",
    "a1, a2, a3 = symbols('a1 a2 a3')\n",
    "A = O1.locate_new('A', a1*Sys.i + a2*Sys.j + a3*Sys.k)\n",
    "\n",
    "# Similarly define points B and C\n",
    "b1, b2, b3 = symbols('b1 b2 b3')\n",
    "B = O1.locate_new('B', b1*Sys.i + b2*Sys.j + b3*Sys.k)\n",
    "c1, c2, c3 = symbols('c1 c2 c3')"
   ]
  },
  {
   "cell_type": "code",
   "execution_count": 4,
   "metadata": {},
   "outputs": [
    {
     "data": {
      "text/latex": [
       "$\\displaystyle \\operatorname{Point}\\left(bob, \\left(ϕ\\right)\\mathbf{\\hat{p}_{P}} + \\left(r\\right)\\mathbf{\\hat{r}_{P}} + \\left(θ\\right)\\mathbf{\\hat{t}_{P}}, \\operatorname{Point}\\left(P.origin, \\mathbf{\\hat{0}}\\right)\\right)$"
      ],
      "text/plain": [
       "bob"
      ]
     },
     "execution_count": 4,
     "metadata": {},
     "output_type": "execute_result"
    }
   ],
   "source": [
    "r, θ, ϕ = symbols('r θ ϕ')\n",
    "O = P.origin\n",
    "bob = O.locate_new('bob', r*P.r + θ*P.t + ϕ*P.p)\n",
    "bob"
   ]
  },
  {
   "cell_type": "code",
   "execution_count": 5,
   "metadata": {},
   "outputs": [
    {
     "data": {
      "text/latex": [
       "$\\displaystyle \\operatorname{CoordSys3D}\\left(P2, \\left( \\left( x_{1}, \\  x_{2}, \\  x_{3}\\right) \\mapsto \\left( x_{1} \\sin{\\left(x_{2} \\right)}, \\  x_{1} \\cos{\\left(x_{2} \\right)}, \\  x_{3}\\right) \\right), \\operatorname{CoordSys3D}\\left(Sys, \\left( \\left[\\begin{matrix}1 & 0 & 0\\\\0 & 1 & 0\\\\0 & 0 & 1\\end{matrix}\\right], \\  \\mathbf{\\hat{0}}\\right)\\right)\\right)$"
      ],
      "text/plain": [
       "P2"
      ]
     },
     "execution_count": 5,
     "metadata": {},
     "output_type": "execute_result"
    }
   ],
   "source": [
    "from sympy import sin,cos\n",
    "P2 = Sys.create_new('P2', transformation=lambda x,y,z: (x*sin(y), x*cos(y), z))\n",
    "P2"
   ]
  },
  {
   "cell_type": "markdown",
   "metadata": {},
   "source": [
    "##### how do we link cart & spherical?"
   ]
  },
  {
   "cell_type": "code",
   "execution_count": 11,
   "metadata": {},
   "outputs": [
    {
     "data": {
      "text/plain": [
       "(3, 2, 1)"
      ]
     },
     "execution_count": 11,
     "metadata": {},
     "output_type": "execute_result"
    }
   ],
   "source": [
    "Car = CoordSys3D('c')\n",
    "Sph = Car.create_new(\n",
    "    'sph',\n",
    "    transformation='spherical',\n",
    "    vector_names='rtp',\n",
    "    variable_names='RTP',\n",
    "    )\n",
    "O_sph = Sph.origin\n",
    "O_car = Car.origin\n",
    "\n",
    "# r, θ, ϕ = symbols('r θ ϕ')\n",
    "a_sph = O_sph.locate_new('bob', 3*Sph.r + 2*Sph.t + 1*Sph.p)\n",
    "\n",
    "a_car = O_car.locate_new('bob2', 3*Car.i + 2*Car.j + 1*Car.k)\n",
    "a_sph.express_coordinates(Car)\n",
    "a_car.express_coordinates(Sph)\n",
    "\n"
   ]
  },
  {
   "cell_type": "code",
   "execution_count": 19,
   "metadata": {},
   "outputs": [
    {
     "data": {
      "text/latex": [
       "$\\displaystyle \\mathbf{\\hat{0}}$"
      ],
      "text/plain": [
       "0"
      ]
     },
     "execution_count": 19,
     "metadata": {},
     "output_type": "execute_result"
    }
   ],
   "source": [
    "t = symbols('t')\n",
    "def func_of_t(*args, **kwargs):\n",
    "    return Function(*args, **kwargs)(t)\n",
    "# func_of_t = lambda s : Function(s)(t)\n",
    "# r, θ, ϕ = symbols('r θ ϕ', cls=func_of_t)\n",
    "θ, ϕ = symbols('θ ϕ', cls=func_of_t)\n",
    "r= symbols('r', cls=func_of_t)\n",
    "\n",
    "p1 = O_sph.locate_new('bob', r*Sph.r + θ*Sph.t + ϕ*Sph.p)\n",
    "v1 = r*Sph.r + θ*Sph.t + ϕ*Sph.p\n",
    "diff(Sph.r, t)"
   ]
  },
  {
   "cell_type": "code",
   "execution_count": 7,
   "metadata": {},
   "outputs": [],
   "source": [
    "# from sympy.abc import a, b, c\n",
    "# from sympy import sin, cos, trigsimp, diff\n",
    "# v = a*Sph.r\n",
    "# from sympy import Derivative\n",
    "# Derivative(v, a).doit()\n",
    "pass"
   ]
  },
  {
   "cell_type": "code",
   "execution_count": 12,
   "metadata": {},
   "outputs": [
    {
     "data": {
      "text/plain": [
       "(2*sqrt(5), pi/2, atan(1/2))"
      ]
     },
     "metadata": {},
     "output_type": "display_data"
    },
    {
     "data": {
      "text/latex": [
       "$\\displaystyle \\left[\\begin{matrix}1 & 0 & 0\\\\0 & 1 & 0\\\\0 & 0 & 1\\end{matrix}\\right]$"
      ],
      "text/plain": [
       "Matrix([\n",
       "[1, 0, 0],\n",
       "[0, 1, 0],\n",
       "[0, 0, 1]])"
      ]
     },
     "metadata": {},
     "output_type": "display_data"
    }
   ],
   "source": [
    "# display(express(5*Sph.r + 2*Sph.t, Car))\n",
    "display(Sph.transformation_from_parent_function()(4,2,0))\n",
    "display(Car.rotation_matrix(Sph))"
   ]
  },
  {
   "cell_type": "code",
   "execution_count": 9,
   "metadata": {},
   "outputs": [
    {
     "data": {
      "text/latex": [
       "$\\displaystyle \\operatorname{Point}\\left(bob2, \\left(3\\right)\\mathbf{\\hat{i}_{c}} + \\left(2\\right)\\mathbf{\\hat{j}_{c}} + \\mathbf{\\hat{k}_{c}}, \\operatorname{Point}\\left(c.origin, \\mathbf{\\hat{0}}\\right)\\right)$"
      ],
      "text/plain": [
       "bob2"
      ]
     },
     "execution_count": 9,
     "metadata": {},
     "output_type": "execute_result"
    }
   ],
   "source": [
    "a_car"
   ]
  },
  {
   "cell_type": "markdown",
   "metadata": {},
   "source": [
    "###### https://stackoverflow.com/questions/69664677/how-to-create-a-vector-function-in-sympy-with-actual-vectors-that-can-be-transf"
   ]
  },
  {
   "cell_type": "code",
   "execution_count": 10,
   "metadata": {},
   "outputs": [
    {
     "data": {
      "text/latex": [
       "$\\displaystyle \\left(X\\right)\\mathbf{\\hat{i}_{slo}} + \\left(Y\\right)\\mathbf{\\hat{j}_{slo}} + \\left(Z\\right)\\mathbf{\\hat{k}_{slo}}$"
      ],
      "text/plain": [
       "X*slo.i + Y*slo.j + Z*slo.k"
      ]
     },
     "metadata": {},
     "output_type": "display_data"
    },
    {
     "data": {
      "text/latex": [
       "$\\displaystyle \\left(X\\right)\\mathbf{\\hat{i}_{slo}} + \\left(Y\\right)\\mathbf{\\hat{j}_{slo}} + \\left(Z\\right)\\mathbf{\\hat{k}_{slo}}$"
      ],
      "text/plain": [
       "X*slo.i + Y*slo.j + Z*slo.k"
      ]
     },
     "metadata": {},
     "output_type": "display_data"
    },
    {
     "data": {
      "text/latex": [
       "$\\displaystyle \\left(X \\cos{\\left(\\alpha \\right)} - Y \\sin{\\left(\\alpha \\right)}\\right)\\mathbf{\\hat{i}_{grd}} + \\left(X \\sin{\\left(\\alpha \\right)} + Y \\cos{\\left(\\alpha \\right)}\\right)\\mathbf{\\hat{j}_{grd}} + \\left(Z\\right)\\mathbf{\\hat{k}_{grd}}$"
      ],
      "text/plain": [
       "(X*cos(alpha) - Y*sin(alpha))*grd.i + (X*sin(alpha) + Y*cos(alpha))*grd.j + Z*grd.k"
      ]
     },
     "metadata": {},
     "output_type": "display_data"
    }
   ],
   "source": [
    "from sympy import symbols\n",
    "from sympy.vector import CoordSys3D, express\n",
    "\n",
    "grd = CoordSys3D('grd')\n",
    "# this declares the existence of a csys, named grd\n",
    "\n",
    "alpha, X, Y, Z = symbols('alpha, X, Y, Z')\n",
    "\n",
    "slo = grd.orient_new_axis('slo', alpha, grd.k, location=2*grd.j)\n",
    "# This creates a new csys named slo, rotated with an angle alpha around \n",
    "# the axis k of grd (=grd.k), and locates it at 2 on the axis j of grd\n",
    "# (x y z are replaced by i j k)\n",
    "\n",
    "V = X*slo.i + Y*slo.j + Z*slo.k\n",
    "# this defines a vector V with coordinates (X, Y, Z), in the csys slo.\n",
    "\n",
    "display(V)\n",
    "display(express(V, slo))\n",
    "display(express(V, grd))\n",
    "# this will display the coordinates of the vector V, and then express its coordinates\n",
    "# in the csys slo & grd."
   ]
  },
  {
   "cell_type": "markdown",
   "metadata": {},
   "source": [
    "#### What about directions?"
   ]
  },
  {
   "cell_type": "code",
   "execution_count": 11,
   "metadata": {},
   "outputs": [
    {
     "data": {
      "text/latex": [
       "$\\displaystyle \\left(v_{1}{\\left(\\mathbf{{x}_{C}},\\mathbf{{y}_{C}},\\mathbf{{z}_{C}} \\right)}\\right)\\mathbf{\\hat{i}_{C}} + \\left(v_{2}{\\left(\\mathbf{{x}_{C}},\\mathbf{{y}_{C}},\\mathbf{{z}_{C}} \\right)}\\right)\\mathbf{\\hat{j}_{C}} + \\left(v_{3}{\\left(\\mathbf{{x}_{C}},\\mathbf{{y}_{C}},\\mathbf{{z}_{C}} \\right)}\\right)\\mathbf{\\hat{k}_{C}}$"
      ],
      "text/plain": [
       "(v1(C.x, C.y, C.z))*C.i + (v2(C.x, C.y, C.z))*C.j + (v3(C.x, C.y, C.z))*C.k"
      ]
     },
     "execution_count": 11,
     "metadata": {},
     "output_type": "execute_result"
    }
   ],
   "source": [
    "from sympy import symbols, Function\n",
    "from sympy.vector import CoordSys3D, Del\n",
    "delop = Del()\n",
    "C = CoordSys3D('C')\n",
    "\n",
    "v1, v2, v3, f = symbols('v1 v2 v3 f', cls=Function)\n",
    "vfield = v1(C.x, C.y, C.z)*C.i + v2(C.x, C.y, C.z)*C.j + v3(C.x, C.y, C.z)*C.k\n",
    "ffield = f(C.x, C.y, C.z)\n",
    "\n",
    "vfield"
   ]
  }
 ],
 "metadata": {
  "kernelspec": {
   "display_name": "standard",
   "language": "python",
   "name": "python3"
  },
  "language_info": {
   "codemirror_mode": {
    "name": "ipython",
    "version": 3
   },
   "file_extension": ".py",
   "mimetype": "text/x-python",
   "name": "python",
   "nbconvert_exporter": "python",
   "pygments_lexer": "ipython3",
   "version": "3.11.5"
  }
 },
 "nbformat": 4,
 "nbformat_minor": 2
}
